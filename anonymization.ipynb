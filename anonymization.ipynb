{
 "cells": [
  {
   "cell_type": "code",
   "execution_count": 1,
   "id": "2f68f967",
   "metadata": {},
   "outputs": [],
   "source": [
    "file_name = \"final-CovidET-1885.json\""
   ]
  },
  {
   "cell_type": "code",
   "execution_count": 2,
   "id": "81d3bf6d",
   "metadata": {},
   "outputs": [
    {
     "data": {
      "text/html": [
       "<div>\n",
       "<style scoped>\n",
       "    .dataframe tbody tr th:only-of-type {\n",
       "        vertical-align: middle;\n",
       "    }\n",
       "\n",
       "    .dataframe tbody tr th {\n",
       "        vertical-align: top;\n",
       "    }\n",
       "\n",
       "    .dataframe thead th {\n",
       "        text-align: right;\n",
       "    }\n",
       "</style>\n",
       "<table border=\"1\" class=\"dataframe\">\n",
       "  <thead>\n",
       "    <tr style=\"text-align: right;\">\n",
       "      <th></th>\n",
       "      <th>Reddit ID</th>\n",
       "      <th>Time Created</th>\n",
       "      <th>Reddit Post</th>\n",
       "      <th>old_annos</th>\n",
       "    </tr>\n",
       "  </thead>\n",
       "  <tbody>\n",
       "    <tr>\n",
       "      <th>0</th>\n",
       "      <td>o6lpwn</td>\n",
       "      <td>6/23/2021 20:51</td>\n",
       "      <td>I dont even know how to speak of this grief. I...</td>\n",
       "      <td>{'Annotation 0 | Assignment ID = 3HMVI3QICT3FH...</td>\n",
       "    </tr>\n",
       "    <tr>\n",
       "      <th>1</th>\n",
       "      <td>o77vmk</td>\n",
       "      <td>6/24/2021 19:17</td>\n",
       "      <td>I'm being vague as to not give away my employe...</td>\n",
       "      <td>{'Annotation 0 | Assignment ID = 3HMVI3QICT3FH...</td>\n",
       "    </tr>\n",
       "    <tr>\n",
       "      <th>2</th>\n",
       "      <td>o78h66</td>\n",
       "      <td>6/24/2021 19:46</td>\n",
       "      <td>My mental health was never great before the pa...</td>\n",
       "      <td>{'Annotation 0 | Assignment ID = 3B837J3LDY76E...</td>\n",
       "    </tr>\n",
       "    <tr>\n",
       "      <th>3</th>\n",
       "      <td>o7buf0</td>\n",
       "      <td>6/24/2021 23:42</td>\n",
       "      <td>I am visiting family this week. All of my fami...</td>\n",
       "      <td>{'Annotation 0 | Assignment ID = 3B837J3LDY76E...</td>\n",
       "    </tr>\n",
       "    <tr>\n",
       "      <th>4</th>\n",
       "      <td>o7fa6u</td>\n",
       "      <td>6/25/2021 3:15</td>\n",
       "      <td>I have hashimotos disease, diagnosed when I wa...</td>\n",
       "      <td>{'Annotation 0 | Assignment ID = 35GMH2SV3OS27...</td>\n",
       "    </tr>\n",
       "  </tbody>\n",
       "</table>\n",
       "</div>"
      ],
      "text/plain": [
       "  Reddit ID     Time Created  \\\n",
       "0    o6lpwn  6/23/2021 20:51   \n",
       "1    o77vmk  6/24/2021 19:17   \n",
       "2    o78h66  6/24/2021 19:46   \n",
       "3    o7buf0  6/24/2021 23:42   \n",
       "4    o7fa6u   6/25/2021 3:15   \n",
       "\n",
       "                                         Reddit Post  \\\n",
       "0  I dont even know how to speak of this grief. I...   \n",
       "1  I'm being vague as to not give away my employe...   \n",
       "2  My mental health was never great before the pa...   \n",
       "3  I am visiting family this week. All of my fami...   \n",
       "4  I have hashimotos disease, diagnosed when I wa...   \n",
       "\n",
       "                                           old_annos  \n",
       "0  {'Annotation 0 | Assignment ID = 3HMVI3QICT3FH...  \n",
       "1  {'Annotation 0 | Assignment ID = 3HMVI3QICT3FH...  \n",
       "2  {'Annotation 0 | Assignment ID = 3B837J3LDY76E...  \n",
       "3  {'Annotation 0 | Assignment ID = 3B837J3LDY76E...  \n",
       "4  {'Annotation 0 | Assignment ID = 35GMH2SV3OS27...  "
      ]
     },
     "execution_count": 2,
     "metadata": {},
     "output_type": "execute_result"
    }
   ],
   "source": [
    "import pandas as pd\n",
    "file = pd.read_json(f\"./data/{file_name}\", orient=\"index\")\n",
    "file = file.rename(columns={\"Annotations\": \"old_annos\"})\n",
    "file.head()"
   ]
  },
  {
   "cell_type": "markdown",
   "id": "a229abff",
   "metadata": {},
   "source": [
    "### Manually pick out NERs to mask"
   ]
  },
  {
   "cell_type": "code",
   "execution_count": 3,
   "id": "5e046545",
   "metadata": {},
   "outputs": [],
   "source": [
    "# check NERs in annotations\n",
    "\n",
    "abst_triggers = []\n",
    "for idx, row in file.iterrows():\n",
    "    anno_dict = row[\"old_annos\"]\n",
    "    for worker, work in anno_dict.items():\n",
    "        for emo_dict in work:\n",
    "            try:\n",
    "                abst_triggers.append(emo_dict[\"Abstractive\"])\n",
    "            except: pass\n",
    "\n",
    "import spacy\n",
    "nlp = spacy.load('en_core_web_sm')\n",
    "\n",
    "def show_ents(doc, label=\"ORG\"):\n",
    "    if doc.ents:\n",
    "        return [ent.text for ent in doc.ents if ent.label_ == label]\n",
    "    else:\n",
    "        return []"
   ]
  },
  {
   "cell_type": "code",
   "execution_count": 4,
   "id": "1f9beb6c",
   "metadata": {},
   "outputs": [
    {
     "data": {
      "text/plain": [
       "3427"
      ]
     },
     "execution_count": 4,
     "metadata": {},
     "output_type": "execute_result"
    }
   ],
   "source": [
    "ORG_ners = [show_ents( nlp(abst), label=\"ORG\" ) for abst in abst_triggers]\n",
    "ORG_ners = [item for sublist in ORG_ners for item in sublist]\n",
    "from collections import Counter\n",
    "ORG_count = Counter(ORG_ners)\n",
    "sum(ORG_count.values())"
   ]
  },
  {
   "cell_type": "code",
   "execution_count": 5,
   "id": "13969257",
   "metadata": {},
   "outputs": [
    {
     "data": {
      "text/plain": [
       "[('COVID', 2789),\n",
       " ('Omicron', 197),\n",
       " ('Delta', 57),\n",
       " ('Covid', 57),\n",
       " ('CDC', 42),\n",
       " ('Pfizer', 37),\n",
       " ('FDA', 27),\n",
       " ('PCR', 24),\n",
       " ('WHO', 16),\n",
       " ('SEP', 16),\n",
       " ('J&J', 11),\n",
       " ('AstraZeneca', 9),\n",
       " ('Reddit', 7),\n",
       " ('EU', 7),\n",
       " ('OCD', 5),\n",
       " ('Twitter', 5),\n",
       " ('SINOVAC', 5),\n",
       " ('omicron', 4),\n",
       " ('Vaccination', 3),\n",
       " ('COVID news', 3),\n",
       " ('Trump', 3),\n",
       " ('Lambda', 3),\n",
       " ('Fauci', 3),\n",
       " ('Disney', 3),\n",
       " ('COIVD', 3),\n",
       " ('house', 3),\n",
       " ('Ivermectin', 3),\n",
       " ('NBC', 2),\n",
       " ('Novavax', 2),\n",
       " ('the World Health Organization', 2),\n",
       " ('IBS', 2),\n",
       " ('KN95', 2),\n",
       " ('next', 2),\n",
       " ('COVD', 2),\n",
       " ('AC', 2),\n",
       " ('PTO', 2),\n",
       " ('Astrazeneca', 2),\n",
       " ('Cornell', 2),\n",
       " ('Johnson & Johnson', 2),\n",
       " ('Google', 2),\n",
       " ('Long COVID', 1),\n",
       " ('CIVD', 1),\n",
       " ('the New York Times', 1),\n",
       " ('Modi', 1),\n",
       " ('CNBC', 1),\n",
       " ('the NY Times', 1),\n",
       " ('protocols', 1),\n",
       " ('NBC News', 1),\n",
       " ('COVID-19 news scares', 1),\n",
       " ('Gottlieb', 1),\n",
       " ('Royal Mail', 1),\n",
       " (\"Johnson & Johnson's\", 1),\n",
       " ('GOP', 1),\n",
       " ('LGBT', 1),\n",
       " ('LGBTQ', 1),\n",
       " ('the White House', 1),\n",
       " ('COVOD', 1),\n",
       " ('BS', 1),\n",
       " ('fed', 1),\n",
       " ('Panda', 1),\n",
       " ('PhD', 1),\n",
       " ('the Mayo Clinic', 1),\n",
       " ('IVF', 1),\n",
       " ('NIH', 1),\n",
       " (\"the World Health Organization's\", 1),\n",
       " ('Alpha Lipoic Acid', 1),\n",
       " ('GBS', 1),\n",
       " ('Guillain-Barré', 1),\n",
       " ('Duke', 1),\n",
       " ('RN', 1),\n",
       " ('UPS', 1),\n",
       " ('Roche', 1),\n",
       " ('delta', 1),\n",
       " ('BBQ', 1),\n",
       " ('Facebook', 1),\n",
       " ('Pfizers', 1),\n",
       " ('FIL', 1),\n",
       " ('Oxford', 1),\n",
       " ('Steel City Con', 1),\n",
       " ('People.com', 1),\n",
       " ('COVID-19 news invokes', 1),\n",
       " ('Omnicron', 1),\n",
       " ('NY', 1),\n",
       " ('Cornell University', 1),\n",
       " ('Fox News', 1),\n",
       " ('QuickVue', 1),\n",
       " ('MRNA', 1),\n",
       " ('PTSD', 1),\n",
       " ('Amtrak', 1),\n",
       " ('NBA', 1),\n",
       " ('omnicron', 1),\n",
       " ('the European Union', 1),\n",
       " ('Amazon', 1),\n",
       " ('Rapid', 1),\n",
       " (\"the New York State Department of Health's\", 1),\n",
       " ('EMT', 1),\n",
       " ('Yale', 1),\n",
       " ('Harvard', 1),\n",
       " ('Stanford', 1)]"
      ]
     },
     "execution_count": 5,
     "metadata": {},
     "output_type": "execute_result"
    }
   ],
   "source": [
    "ORG_count.most_common()"
   ]
  },
  {
   "cell_type": "code",
   "execution_count": 6,
   "id": "da848fb5",
   "metadata": {},
   "outputs": [],
   "source": [
    "ORG_lst = [\n",
    "    'Pfizer',\n",
    "    'Pfizers',\n",
    "    'J&J',\n",
    "    'Johnson & Johnson',\n",
    "    \"Johnson & Johnson's\",\n",
    "    'AstraZeneca',\n",
    "    'SINOVAC',\n",
    "    'Ivermectin',\n",
    "    'Novavax',\n",
    "    'Astrazeneca',\n",
    "    'the New York Times',\n",
    "    'the NY Times',\n",
    "    'CNBC',\n",
    "    'NBC News',\n",
    "    'Gottlieb',\n",
    "    'Royal Mail',\n",
    "    'the Mayo Clinic',\n",
    "    'People.com',\n",
    "    'Fox News',\n",
    "    'Roche',\n",
    "    'QuickVue',\n",
    "    'Amtrak',\n",
    "    \"Moderma\",\n",
    "    'Moderna',\n",
    "    'regencov',\n",
    "]"
   ]
  },
  {
   "cell_type": "code",
   "execution_count": 7,
   "id": "ab6b86fb",
   "metadata": {},
   "outputs": [
    {
     "data": {
      "text/plain": [
       "215"
      ]
     },
     "execution_count": 7,
     "metadata": {},
     "output_type": "execute_result"
    }
   ],
   "source": [
    "PERSON_ners = [show_ents( nlp(abst), label=\"PERSON\" ) for abst in abst_triggers]\n",
    "PERSON_ners = [item for sublist in PERSON_ners for item in sublist]\n",
    "PERSON_count = Counter(PERSON_ners)\n",
    "sum(PERSON_count.values())"
   ]
  },
  {
   "cell_type": "code",
   "execution_count": 8,
   "id": "ccef3ba6",
   "metadata": {},
   "outputs": [
    {
     "data": {
      "text/plain": [
       "[('Covid', 112),\n",
       " ('Fauci', 12),\n",
       " ('Moderna', 11),\n",
       " ('sep', 8),\n",
       " ('Walmart', 6),\n",
       " ('Cyrus Shahpar', 3),\n",
       " ('Vin Gupta', 3),\n",
       " ('Anna', 3),\n",
       " ('NYE', 3),\n",
       " ('Quarantine', 2),\n",
       " ('Ostenholm', 2),\n",
       " (\"Cyrus Shahpar's\", 2),\n",
       " ('Aaron Astor', 2),\n",
       " ('Steve', 2),\n",
       " ('Lambda', 2),\n",
       " ('Pfizer', 2),\n",
       " ('Janssen', 2),\n",
       " ('Johnson', 2),\n",
       " ('jiu jitsu', 2),\n",
       " ('Parosmia', 2),\n",
       " ('FOMO', 1),\n",
       " ('Osterholm', 1),\n",
       " ('Twitter', 1),\n",
       " ('Biden', 1),\n",
       " ('Astra Zeneca', 1),\n",
       " ('K95', 1),\n",
       " ('Guillian Barre Syndrome', 1),\n",
       " ('Zedd', 1),\n",
       " ('Alex Jones', 1),\n",
       " ('Bill de Blasio', 1),\n",
       " ('pre-COVID', 1),\n",
       " ('Tinder', 1),\n",
       " ('max', 1),\n",
       " ('sore throat', 1),\n",
       " ('diarrhea', 1),\n",
       " ('Angier', 1),\n",
       " ('Mu', 1),\n",
       " ('Dragon Con', 1),\n",
       " ('runny nose', 1),\n",
       " ('Laurel Bristow', 1),\n",
       " ('Laurel Bastrow', 1),\n",
       " ('regencov', 1),\n",
       " ('Zoom', 1),\n",
       " ('Jessica Wildfire', 1),\n",
       " ('QuickVue', 1),\n",
       " ('KN95 mask', 1),\n",
       " ('Herman Cain', 1),\n",
       " ('Jiu Jitsu', 1),\n",
       " ('JTurner', 1),\n",
       " ('Quarantining', 1),\n",
       " ('Hotez', 1),\n",
       " ('Moderma', 1)]"
      ]
     },
     "execution_count": 8,
     "metadata": {},
     "output_type": "execute_result"
    }
   ],
   "source": [
    "PERSON_count.most_common()"
   ]
  },
  {
   "cell_type": "code",
   "execution_count": 9,
   "id": "a0c2f9d1",
   "metadata": {},
   "outputs": [],
   "source": [
    "PERSON_lst = [\n",
    "    'Trump',\n",
    "    'Fauci',\n",
    "    'Modi',\n",
    "    'Cyrus Shahpar',\n",
    "    \"Cyrus Shahpar's\",\n",
    "    'Vin Gupta',\n",
    "    'Anna',\n",
    "    'Ostenholm',\n",
    "    'Osterholm',\n",
    "    'Aaron Astor',\n",
    "    'Steve',\n",
    "    'Janssen',\n",
    "    'jiu jitsu',\n",
    "    'Jiu Jitsu',\n",
    "    'Biden',\n",
    "    'Astra Zeneca',\n",
    "    'Zedd',\n",
    "    'Alex Jones',\n",
    "    'Bill de Blasio',\n",
    "    'Angier',\n",
    "    'Laurel Bristow',\n",
    "    'Laurel Bastrow',\n",
    "    'Jessica Wildfire',\n",
    "    'Herman Cain',\n",
    "    'JTurner',\n",
    "    'Hotez',\n",
    "]"
   ]
  },
  {
   "cell_type": "code",
   "execution_count": null,
   "id": "10cbec83",
   "metadata": {},
   "outputs": [],
   "source": []
  },
  {
   "cell_type": "markdown",
   "id": "79bd8e71",
   "metadata": {},
   "source": [
    "### Mask dataset"
   ]
  },
  {
   "cell_type": "code",
   "execution_count": 10,
   "id": "52f1244b",
   "metadata": {},
   "outputs": [],
   "source": [
    "def mask(anno_dict):\n",
    "    new_anno_dict = {}\n",
    "    for worker, work in anno_dict.items():\n",
    "        new_work = []\n",
    "        for emo_dict in work:\n",
    "            new_emo_dict = {}\n",
    "            if emo_dict[\"Emotion\"] != \"NA\":\n",
    "                abst = emo_dict[\"Abstractive\"]\n",
    "                for i in ORG_lst:\n",
    "                    abst = abst.replace(i, \"<ORG>\")\n",
    "                for i in PERSON_lst:\n",
    "                    abst = abst.replace(i, \"<PERSON>\")\n",
    "                \n",
    "                new_emo_dict[\"Emotion\"] = emo_dict[\"Emotion\"]\n",
    "                new_emo_dict[\"Abstractive\"] = abst\n",
    "                \n",
    "            else:\n",
    "                new_emo_dict = emo_dict # \"NA\" emotions\n",
    "                #print (new_emo_dict)\n",
    "            \n",
    "            new_work.append(new_emo_dict)\n",
    "        new_anno_dict[worker] = new_work\n",
    "    return new_anno_dict"
   ]
  },
  {
   "cell_type": "code",
   "execution_count": 11,
   "id": "2cd0e75f",
   "metadata": {},
   "outputs": [],
   "source": [
    "file[\"Annotations\"] = file[\"old_annos\"].apply(mask)\n",
    "rslt_file = file[[\"Reddit ID\", \"Time Created\", \"Annotations\"]]\n",
    "\n",
    "import json\n",
    "final_json = rslt_file.to_json(orient=\"index\")\n",
    "results_json = json.loads(final_json)\n",
    "with open(f'./data/CovidET_anonymized.json', 'w') as outfile:\n",
    "    json.dump(results_json, outfile, indent=4)"
   ]
  },
  {
   "cell_type": "code",
   "execution_count": null,
   "id": "4fc01e9c",
   "metadata": {},
   "outputs": [],
   "source": []
  },
  {
   "cell_type": "code",
   "execution_count": null,
   "id": "37759b95",
   "metadata": {},
   "outputs": [],
   "source": []
  },
  {
   "cell_type": "code",
   "execution_count": null,
   "id": "3cf8462c",
   "metadata": {},
   "outputs": [],
   "source": []
  },
  {
   "cell_type": "code",
   "execution_count": null,
   "id": "f285d002",
   "metadata": {},
   "outputs": [],
   "source": []
  },
  {
   "cell_type": "code",
   "execution_count": null,
   "id": "cc1aa039",
   "metadata": {},
   "outputs": [],
   "source": []
  },
  {
   "cell_type": "code",
   "execution_count": null,
   "id": "63c1e393",
   "metadata": {},
   "outputs": [],
   "source": []
  },
  {
   "cell_type": "code",
   "execution_count": null,
   "id": "907574fd",
   "metadata": {},
   "outputs": [],
   "source": []
  },
  {
   "cell_type": "code",
   "execution_count": null,
   "id": "ab4370ca",
   "metadata": {},
   "outputs": [],
   "source": []
  },
  {
   "cell_type": "code",
   "execution_count": null,
   "id": "7197079b",
   "metadata": {},
   "outputs": [],
   "source": []
  },
  {
   "cell_type": "code",
   "execution_count": 12,
   "id": "62e418ff",
   "metadata": {},
   "outputs": [
    {
     "data": {
      "text/plain": [
       "'\\n# Presidio by Microsoft\\n\\n# Create configuration containing engine name and models\\nconfiguration = {\\n    \"nlp_engine_name\": \"spacy\",\\n    \"models\": [{\"lang_code\": \"en\", \"model_name\": \"en_core_web_lg\"}],\\n}\\n\\nfrom presidio_analyzer import AnalyzerEngine\\nfrom presidio_analyzer.nlp_engine import NlpEngineProvider\\n# Create NLP engine based on configuration\\nprovider = NlpEngineProvider(nlp_configuration=configuration)\\nnlp_engine = provider.create_engine()\\n# the languages are needed to load country-specific recognizers \\n# for finding phones, passport numbers, etc.\\nanalyzer = AnalyzerEngine(nlp_engine=nlp_engine,\\n                          supported_languages=[\"en\"],\\n                         )\\n\\nfrom presidio_anonymizer import AnonymizerEngine\\nanonymizer = AnonymizerEngine()\\n'"
      ]
     },
     "execution_count": 12,
     "metadata": {},
     "output_type": "execute_result"
    }
   ],
   "source": [
    "\"\"\"\n",
    "# Presidio by Microsoft\n",
    "\n",
    "# Create configuration containing engine name and models\n",
    "configuration = {\n",
    "    \"nlp_engine_name\": \"spacy\",\n",
    "    \"models\": [{\"lang_code\": \"en\", \"model_name\": \"en_core_web_lg\"}],\n",
    "}\n",
    "\n",
    "from presidio_analyzer import AnalyzerEngine\n",
    "from presidio_analyzer.nlp_engine import NlpEngineProvider\n",
    "# Create NLP engine based on configuration\n",
    "provider = NlpEngineProvider(nlp_configuration=configuration)\n",
    "nlp_engine = provider.create_engine()\n",
    "# the languages are needed to load country-specific recognizers \n",
    "# for finding phones, passport numbers, etc.\n",
    "analyzer = AnalyzerEngine(nlp_engine=nlp_engine,\n",
    "                          supported_languages=[\"en\"],\n",
    "                         )\n",
    "\n",
    "from presidio_anonymizer import AnonymizerEngine\n",
    "anonymizer = AnonymizerEngine()\n",
    "\"\"\""
   ]
  },
  {
   "cell_type": "code",
   "execution_count": 13,
   "id": "7ead2fe1",
   "metadata": {},
   "outputs": [
    {
     "data": {
      "text/plain": [
       "'\\nfrom faker import Faker\\nfake = Faker()\\nfrom presidio_anonymizer.entities.engine import OperatorConfig\\n\\nfake_operators = {\\n    \"PERSON\": OperatorConfig(\"custom\", {\"lambda\": lambda x: fake.name()}),\\n    \"PHONE_NUMBER\": OperatorConfig(\"custom\", {\"lambda\": lambda x: fake.phone_number()}),\\n    \"EMAIL_ADDRESS\": OperatorConfig(\"custom\", {\"lambda\": lambda x: fake.email()}),\\n    \"LOCATION\": OperatorConfig(\"custom\", {\"lambda\": lambda x: x}),\\n    \"DEFAULT\": OperatorConfig(\"custom\", {\"lambda\": lambda x: x})\\n}\\n'"
      ]
     },
     "execution_count": 13,
     "metadata": {},
     "output_type": "execute_result"
    }
   ],
   "source": [
    "\"\"\"\n",
    "from faker import Faker\n",
    "fake = Faker()\n",
    "from presidio_anonymizer.entities.engine import OperatorConfig\n",
    "\n",
    "fake_operators = {\n",
    "    \"PERSON\": OperatorConfig(\"custom\", {\"lambda\": lambda x: fake.name()}),\n",
    "    \"PHONE_NUMBER\": OperatorConfig(\"custom\", {\"lambda\": lambda x: fake.phone_number()}),\n",
    "    \"EMAIL_ADDRESS\": OperatorConfig(\"custom\", {\"lambda\": lambda x: fake.email()}),\n",
    "    \"LOCATION\": OperatorConfig(\"custom\", {\"lambda\": lambda x: x}),\n",
    "    \"DEFAULT\": OperatorConfig(\"custom\", {\"lambda\": lambda x: x})\n",
    "}\n",
    "\"\"\""
   ]
  },
  {
   "cell_type": "code",
   "execution_count": 14,
   "id": "f608d2c3",
   "metadata": {},
   "outputs": [
    {
     "data": {
      "text/plain": [
       "'\\ndef remove_ext(anno_dict):\\n    new_anno = dict()\\n    for worker, work in anno_dict.items():\\n        new_work = list()\\n        for emo_dict in work:\\n            new_emo_dict = dict()\\n            new_emo_dict[\"Emotion\"] = emo_dict[\"Emotion\"]\\n            if :\\n                abst_analyzed = analyzer.analyze(text=emo_dict[\"Abstractive\"], \\n                                                 language=\\'en\\', \\n                                                 allow_list = [\"Covid\", \"COVID\", \"Delta\", \"Omicron\"]\\n                                                )\\n                abst_anonymized = anonymizer.anonymize(\\n                    text=emo_dict[\"Abstractive\"], \\n                    analyzer_results=abst_analyzed, \\n                    operators=fake_operators\\n                    ).text\\n                new_emo_dict[\"Abstractive\"] = abst_anonymized\\n            except:\\n                pass\\n            new_work.append(new_emo_dict)\\n        new_anno[worker] = new_work\\n    return new_anno\\n'"
      ]
     },
     "execution_count": 14,
     "metadata": {},
     "output_type": "execute_result"
    }
   ],
   "source": [
    "\"\"\"\n",
    "def remove_ext(anno_dict):\n",
    "    new_anno = dict()\n",
    "    for worker, work in anno_dict.items():\n",
    "        new_work = list()\n",
    "        for emo_dict in work:\n",
    "            new_emo_dict = dict()\n",
    "            new_emo_dict[\"Emotion\"] = emo_dict[\"Emotion\"]\n",
    "            if :\n",
    "                abst_analyzed = analyzer.analyze(text=emo_dict[\"Abstractive\"], \n",
    "                                                 language='en', \n",
    "                                                 allow_list = [\"Covid\", \"COVID\", \"Delta\", \"Omicron\"]\n",
    "                                                )\n",
    "                abst_anonymized = anonymizer.anonymize(\n",
    "                    text=emo_dict[\"Abstractive\"], \n",
    "                    analyzer_results=abst_analyzed, \n",
    "                    operators=fake_operators\n",
    "                    ).text\n",
    "                new_emo_dict[\"Abstractive\"] = abst_anonymized\n",
    "            except:\n",
    "                pass\n",
    "            new_work.append(new_emo_dict)\n",
    "        new_anno[worker] = new_work\n",
    "    return new_anno\n",
    "\"\"\""
   ]
  },
  {
   "cell_type": "code",
   "execution_count": 15,
   "id": "e1ac69aa",
   "metadata": {},
   "outputs": [
    {
     "data": {
      "text/plain": [
       "'\\nfile[\"Annotations\"] = file[\"old_annos\"].apply(remove_ext)\\nrslt_file = file[[\"Reddit ID\", \"Time Created\", \"Annotations\"]]\\nrslt_file.head()\\n'"
      ]
     },
     "execution_count": 15,
     "metadata": {},
     "output_type": "execute_result"
    }
   ],
   "source": [
    "\"\"\"\n",
    "file[\"Annotations\"] = file[\"old_annos\"].apply(remove_ext)\n",
    "rslt_file = file[[\"Reddit ID\", \"Time Created\", \"Annotations\"]]\n",
    "rslt_file.head()\n",
    "\"\"\""
   ]
  },
  {
   "cell_type": "code",
   "execution_count": 16,
   "id": "a23a6004",
   "metadata": {},
   "outputs": [
    {
     "data": {
      "text/plain": [
       "'\\nrslt_file.loc[5][\"Annotations\"]\\n'"
      ]
     },
     "execution_count": 16,
     "metadata": {},
     "output_type": "execute_result"
    }
   ],
   "source": [
    "\"\"\"\n",
    "rslt_file.loc[5][\"Annotations\"]\n",
    "\"\"\""
   ]
  },
  {
   "cell_type": "code",
   "execution_count": 17,
   "id": "a6be4edc",
   "metadata": {},
   "outputs": [
    {
     "data": {
      "text/plain": [
       "'\\nimport json\\nfinal_json = rslt_file.to_json(orient=\"index\")\\nresults_json = json.loads(final_json)\\nwith open(f\\'./data/CovidET_anonymized.json\\', \\'w\\') as outfile:\\n    json.dump(results_json, outfile, indent=4)\\n'"
      ]
     },
     "execution_count": 17,
     "metadata": {},
     "output_type": "execute_result"
    }
   ],
   "source": [
    "\"\"\"\n",
    "import json\n",
    "final_json = rslt_file.to_json(orient=\"index\")\n",
    "results_json = json.loads(final_json)\n",
    "with open(f'./data/CovidET_anonymized.json', 'w') as outfile:\n",
    "    json.dump(results_json, outfile, indent=4)\n",
    "\"\"\""
   ]
  },
  {
   "cell_type": "code",
   "execution_count": null,
   "id": "2d587661",
   "metadata": {},
   "outputs": [],
   "source": []
  },
  {
   "cell_type": "code",
   "execution_count": null,
   "id": "3fdf3ddf",
   "metadata": {},
   "outputs": [],
   "source": []
  },
  {
   "cell_type": "code",
   "execution_count": null,
   "id": "7a9d9a40",
   "metadata": {},
   "outputs": [],
   "source": []
  },
  {
   "cell_type": "code",
   "execution_count": null,
   "id": "3ddfafb9",
   "metadata": {},
   "outputs": [],
   "source": []
  },
  {
   "cell_type": "code",
   "execution_count": null,
   "id": "db150264",
   "metadata": {},
   "outputs": [],
   "source": []
  },
  {
   "cell_type": "code",
   "execution_count": 18,
   "id": "c72723bd",
   "metadata": {},
   "outputs": [
    {
     "data": {
      "text/plain": [
       "'\\nfrom collections import Counter\\ncount = Counter(total_ners)\\nsum(count.values())\\n'"
      ]
     },
     "execution_count": 18,
     "metadata": {},
     "output_type": "execute_result"
    }
   ],
   "source": [
    "\"\"\"\n",
    "from collections import Counter\n",
    "count = Counter(total_ners)\n",
    "sum(count.values())\n",
    "\"\"\""
   ]
  },
  {
   "cell_type": "code",
   "execution_count": 19,
   "id": "c7c7ee2b",
   "metadata": {},
   "outputs": [
    {
     "data": {
      "text/plain": [
       "'\\ncount.most_common()\\n'"
      ]
     },
     "execution_count": 19,
     "metadata": {},
     "output_type": "execute_result"
    }
   ],
   "source": [
    "\"\"\"\n",
    "count.most_common()\n",
    "\"\"\""
   ]
  },
  {
   "cell_type": "code",
   "execution_count": 20,
   "id": "38bf9d64",
   "metadata": {},
   "outputs": [],
   "source": [
    "# Replace ORG, PERSON with <ORG>, <PERSON>"
   ]
  },
  {
   "cell_type": "code",
   "execution_count": null,
   "id": "506cc7b3",
   "metadata": {},
   "outputs": [],
   "source": []
  },
  {
   "cell_type": "code",
   "execution_count": null,
   "id": "47320d7b",
   "metadata": {},
   "outputs": [],
   "source": []
  },
  {
   "cell_type": "code",
   "execution_count": null,
   "id": "b55782a4",
   "metadata": {},
   "outputs": [],
   "source": []
  },
  {
   "cell_type": "code",
   "execution_count": null,
   "id": "de7bcec3",
   "metadata": {},
   "outputs": [],
   "source": []
  },
  {
   "cell_type": "code",
   "execution_count": 21,
   "id": "5c390ad8",
   "metadata": {},
   "outputs": [
    {
     "data": {
      "text/plain": [
       "'\\nfrom anonymization import Anonymization, AnonymizerChain, EmailAnonymizer, NamedEntitiesAnonymizer\\n\\ntext = \"The first man was the first boy to go to the third moon!\"\\nanon = AnonymizerChain(Anonymization(\\'en_US\\'))\\nanon.add_anonymizers(EmailAnonymizer, NamedEntitiesAnonymizer(\\'en_core_web_lg\\'))\\nanon.anonymize(text)\\n'"
      ]
     },
     "execution_count": 21,
     "metadata": {},
     "output_type": "execute_result"
    }
   ],
   "source": [
    "\"\"\"\n",
    "from anonymization import Anonymization, AnonymizerChain, EmailAnonymizer, NamedEntitiesAnonymizer\n",
    "\n",
    "text = \"The first man was the first boy to go to the third moon!\"\n",
    "anon = AnonymizerChain(Anonymization('en_US'))\n",
    "anon.add_anonymizers(EmailAnonymizer, NamedEntitiesAnonymizer('en_core_web_lg'))\n",
    "anon.anonymize(text)\n",
    "\"\"\""
   ]
  },
  {
   "cell_type": "code",
   "execution_count": 22,
   "id": "3ac203e0",
   "metadata": {},
   "outputs": [
    {
     "data": {
      "text/plain": [
       "\"\\nnlp.get_pipe('ner').labels\\n\""
      ]
     },
     "execution_count": 22,
     "metadata": {},
     "output_type": "execute_result"
    }
   ],
   "source": [
    "\"\"\"\n",
    "nlp.get_pipe('ner').labels\n",
    "\"\"\""
   ]
  },
  {
   "cell_type": "code",
   "execution_count": 23,
   "id": "2fecbb94",
   "metadata": {},
   "outputs": [
    {
     "data": {
      "text/plain": [
       "('ORG', 'PERSON')"
      ]
     },
     "execution_count": 23,
     "metadata": {},
     "output_type": "execute_result"
    }
   ],
   "source": [
    "\"ORG\", \"PERSON\""
   ]
  },
  {
   "cell_type": "code",
   "execution_count": null,
   "id": "c53a3fa8",
   "metadata": {},
   "outputs": [],
   "source": []
  }
 ],
 "metadata": {
  "kernelspec": {
   "display_name": "Python 3",
   "language": "python",
   "name": "python3"
  },
  "language_info": {
   "codemirror_mode": {
    "name": "ipython",
    "version": 3
   },
   "file_extension": ".py",
   "mimetype": "text/x-python",
   "name": "python",
   "nbconvert_exporter": "python",
   "pygments_lexer": "ipython3",
   "version": "3.8.8"
  }
 },
 "nbformat": 4,
 "nbformat_minor": 5
}
