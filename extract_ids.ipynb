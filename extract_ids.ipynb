{
 "cells": [
  {
   "cell_type": "code",
   "execution_count": 9,
   "id": "c0d71ec5",
   "metadata": {},
   "outputs": [],
   "source": [
    "import pandas as pd\n",
    "file_name = \"CovidET-1867\"\n",
    "file_df = pd.read_json(f\"../{file_name}.json\", orient=\"index\")"
   ]
  },
  {
   "cell_type": "code",
   "execution_count": 10,
   "id": "c15cb1fd",
   "metadata": {},
   "outputs": [],
   "source": [
    "file_df[[\"Reddit ID\"]].to_csv(\"reddit_ids.csv\")"
   ]
  },
  {
   "cell_type": "code",
   "execution_count": null,
   "id": "caeabd2d",
   "metadata": {},
   "outputs": [],
   "source": []
  }
 ],
 "metadata": {
  "kernelspec": {
   "display_name": "Python 3",
   "language": "python",
   "name": "python3"
  },
  "language_info": {
   "codemirror_mode": {
    "name": "ipython",
    "version": 3
   },
   "file_extension": ".py",
   "mimetype": "text/x-python",
   "name": "python",
   "nbconvert_exporter": "python",
   "pygments_lexer": "ipython3",
   "version": "3.8.8"
  }
 },
 "nbformat": 4,
 "nbformat_minor": 5
}
