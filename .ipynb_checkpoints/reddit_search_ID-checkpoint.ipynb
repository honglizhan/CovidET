{
 "cells": [
  {
   "cell_type": "raw",
   "id": "3c335e32",
   "metadata": {},
   "source": [
    "\"\"\"\n",
    "Using the PSAW wrapper for Pushshift API\n",
    "Created on Thu Mar 26, 2020\n",
    "\n",
    "@author: Sarah Seraj\n",
    "@edited: Hongli Zhan\n",
    "\"\"\""
   ]
  },
  {
   "cell_type": "code",
   "execution_count": 61,
   "id": "db2c7d84",
   "metadata": {},
   "outputs": [],
   "source": [
    "import re\n",
    "import csv\n",
    "import json\n",
    "import string\n",
    "import requests\n",
    "import numpy as np\n",
    "import pandas as pd\n",
    "import datetime as dt\n",
    "from time import sleep\n",
    "from psaw import PushshiftAPI\n",
    "from matplotlib import pyplot as plt\n",
    "from nltk.tokenize import sent_tokenize, word_tokenize"
   ]
  },
  {
   "cell_type": "code",
   "execution_count": 62,
   "id": "23593b00",
   "metadata": {},
   "outputs": [],
   "source": [
    "#EDIT: List subreddits separated by commas\n",
    "subreddit_name = ['COVID19_support']"
   ]
  },
  {
   "cell_type": "code",
   "execution_count": 63,
   "id": "bdb1b8ee",
   "metadata": {},
   "outputs": [
    {
     "data": {
      "text/plain": [
       "1885"
      ]
     },
     "execution_count": 63,
     "metadata": {},
     "output_type": "execute_result"
    }
   ],
   "source": [
    "covidet_df = pd.read_json(\"./data/CovidET_anonymized.json\", orient=\"index\")\n",
    "reddit_ids = list(covidet_df[\"Reddit ID\"])\n",
    "len(reddit_ids)"
   ]
  },
  {
   "cell_type": "code",
   "execution_count": 64,
   "id": "63697ef6",
   "metadata": {},
   "outputs": [
    {
     "name": "stdout",
     "output_type": "stream",
     "text": [
      "1580536800\n",
      "1646114400\n"
     ]
    }
   ],
   "source": [
    "#EDIT: beginning & end dates of the period for which you want data\n",
    "start_epoch=int(dt.datetime(2020, 2, 1).timestamp())\n",
    "end_epoch=int(dt.datetime(2022, 3, 1).timestamp())\n",
    "print (start_epoch)\n",
    "print (end_epoch)"
   ]
  },
  {
   "cell_type": "code",
   "execution_count": 55,
   "id": "c4d4a69a",
   "metadata": {},
   "outputs": [],
   "source": [
    "api = PushshiftAPI()\n",
    "cache = []\n",
    "max_response_cache = 1000000"
   ]
  },
  {
   "cell_type": "code",
   "execution_count": 58,
   "id": "6b107d84",
   "metadata": {},
   "outputs": [
    {
     "name": "stdout",
     "output_type": "stream",
     "text": [
      "other exception occurred\n"
     ]
    }
   ],
   "source": [
    "try:\n",
    "    for name in subreddit_name:\n",
    "        gen = api.search_submissions(ids = reddit_ids,\n",
    "                                     subreddit = name,\n",
    "                                     filter = ['author', 'created_utc', 'subreddit', 'selftext',\n",
    "                                               'id','parent_id', 'score', 'author_flair_css_class',\n",
    "                                               'author_flair_text', 'metadata'],\n",
    "                                     after = start_epoch,\n",
    "                                     before = end_epoch)\n",
    "        for c in gen:\n",
    "            cache.append(c)\n",
    "\n",
    "        # Omit this test to actually return all results. Could take a while\n",
    "        #if len(cache) >= max_response_cache:\n",
    "        #    break\n",
    "\n",
    "except ConnectionAbortedError:\n",
    "    sleep(20)\n",
    "    print(\"ConnectionAbortedError occurred\")\n",
    "except:\n",
    "    print(\"other exception occurred\")\n",
    "    sleep(60)"
   ]
  },
  {
   "cell_type": "code",
   "execution_count": 59,
   "id": "c35facfe",
   "metadata": {},
   "outputs": [
    {
     "data": {
      "text/plain": [
       "0"
      ]
     },
     "execution_count": 59,
     "metadata": {},
     "output_type": "execute_result"
    }
   ],
   "source": [
    "df = pd.DataFrame(cache)\n",
    "len(df)\n",
    "#df = df.drop(columns=\"d_\")\n",
    "#df = df.drop(columns=\"created\")"
   ]
  },
  {
   "cell_type": "code",
   "execution_count": 60,
   "id": "88701a22",
   "metadata": {},
   "outputs": [],
   "source": [
    "# df.to_csv('test.csv', \n",
    "#           encoding='utf-8-sig', index = False)"
   ]
  },
  {
   "cell_type": "code",
   "execution_count": 33,
   "id": "c5d67e89",
   "metadata": {},
   "outputs": [],
   "source": [
    "# df['selftext'].replace('', np.nan, inplace=True)"
   ]
  },
  {
   "cell_type": "code",
   "execution_count": 34,
   "id": "9ccd8003",
   "metadata": {},
   "outputs": [],
   "source": [
    "# df['selftext'].isnull().sum()"
   ]
  },
  {
   "cell_type": "code",
   "execution_count": 35,
   "id": "9c4bf7a0",
   "metadata": {},
   "outputs": [],
   "source": [
    "# df.dropna(subset=['selftext'], inplace=True)"
   ]
  },
  {
   "cell_type": "code",
   "execution_count": 36,
   "id": "931251d9",
   "metadata": {},
   "outputs": [
    {
     "ename": "KeyError",
     "evalue": "'selftext'",
     "output_type": "error",
     "traceback": [
      "\u001b[1;31m---------------------------------------------------------------------------\u001b[0m",
      "\u001b[1;31mKeyError\u001b[0m                                  Traceback (most recent call last)",
      "\u001b[1;32mC:\\ProgramData\\Anaconda3\\lib\\site-packages\\pandas\\core\\indexes\\base.py\u001b[0m in \u001b[0;36mget_loc\u001b[1;34m(self, key, method, tolerance)\u001b[0m\n\u001b[0;32m   3079\u001b[0m             \u001b[1;32mtry\u001b[0m\u001b[1;33m:\u001b[0m\u001b[1;33m\u001b[0m\u001b[1;33m\u001b[0m\u001b[0m\n\u001b[1;32m-> 3080\u001b[1;33m                 \u001b[1;32mreturn\u001b[0m \u001b[0mself\u001b[0m\u001b[1;33m.\u001b[0m\u001b[0m_engine\u001b[0m\u001b[1;33m.\u001b[0m\u001b[0mget_loc\u001b[0m\u001b[1;33m(\u001b[0m\u001b[0mcasted_key\u001b[0m\u001b[1;33m)\u001b[0m\u001b[1;33m\u001b[0m\u001b[1;33m\u001b[0m\u001b[0m\n\u001b[0m\u001b[0;32m   3081\u001b[0m             \u001b[1;32mexcept\u001b[0m \u001b[0mKeyError\u001b[0m \u001b[1;32mas\u001b[0m \u001b[0merr\u001b[0m\u001b[1;33m:\u001b[0m\u001b[1;33m\u001b[0m\u001b[1;33m\u001b[0m\u001b[0m\n",
      "\u001b[1;32mpandas\\_libs\\index.pyx\u001b[0m in \u001b[0;36mpandas._libs.index.IndexEngine.get_loc\u001b[1;34m()\u001b[0m\n",
      "\u001b[1;32mpandas\\_libs\\index.pyx\u001b[0m in \u001b[0;36mpandas._libs.index.IndexEngine.get_loc\u001b[1;34m()\u001b[0m\n",
      "\u001b[1;32mpandas\\_libs\\hashtable_class_helper.pxi\u001b[0m in \u001b[0;36mpandas._libs.hashtable.PyObjectHashTable.get_item\u001b[1;34m()\u001b[0m\n",
      "\u001b[1;32mpandas\\_libs\\hashtable_class_helper.pxi\u001b[0m in \u001b[0;36mpandas._libs.hashtable.PyObjectHashTable.get_item\u001b[1;34m()\u001b[0m\n",
      "\u001b[1;31mKeyError\u001b[0m: 'selftext'",
      "\nThe above exception was the direct cause of the following exception:\n",
      "\u001b[1;31mKeyError\u001b[0m                                  Traceback (most recent call last)",
      "\u001b[1;32m<ipython-input-36-e8dbad4ba3d8>\u001b[0m in \u001b[0;36m<module>\u001b[1;34m\u001b[0m\n\u001b[1;32m----> 1\u001b[1;33m \u001b[0mselftext_list\u001b[0m \u001b[1;33m=\u001b[0m \u001b[0mdf\u001b[0m\u001b[1;33m[\u001b[0m\u001b[1;34m'selftext'\u001b[0m\u001b[1;33m]\u001b[0m\u001b[1;33m.\u001b[0m\u001b[0mtolist\u001b[0m\u001b[1;33m(\u001b[0m\u001b[1;33m)\u001b[0m\u001b[1;33m\u001b[0m\u001b[1;33m\u001b[0m\u001b[0m\n\u001b[0m\u001b[0;32m      2\u001b[0m \u001b[0mselftext_length\u001b[0m \u001b[1;33m=\u001b[0m \u001b[1;33m[\u001b[0m\u001b[1;33m]\u001b[0m\u001b[1;33m\u001b[0m\u001b[1;33m\u001b[0m\u001b[0m\n\u001b[0;32m      3\u001b[0m \u001b[0mpunctuations\u001b[0m \u001b[1;33m=\u001b[0m \u001b[0mlist\u001b[0m\u001b[1;33m(\u001b[0m\u001b[0mstring\u001b[0m\u001b[1;33m.\u001b[0m\u001b[0mpunctuation\u001b[0m\u001b[1;33m)\u001b[0m\u001b[1;33m\u001b[0m\u001b[1;33m\u001b[0m\u001b[0m\n",
      "\u001b[1;32mC:\\ProgramData\\Anaconda3\\lib\\site-packages\\pandas\\core\\frame.py\u001b[0m in \u001b[0;36m__getitem__\u001b[1;34m(self, key)\u001b[0m\n\u001b[0;32m   3022\u001b[0m             \u001b[1;32mif\u001b[0m \u001b[0mself\u001b[0m\u001b[1;33m.\u001b[0m\u001b[0mcolumns\u001b[0m\u001b[1;33m.\u001b[0m\u001b[0mnlevels\u001b[0m \u001b[1;33m>\u001b[0m \u001b[1;36m1\u001b[0m\u001b[1;33m:\u001b[0m\u001b[1;33m\u001b[0m\u001b[1;33m\u001b[0m\u001b[0m\n\u001b[0;32m   3023\u001b[0m                 \u001b[1;32mreturn\u001b[0m \u001b[0mself\u001b[0m\u001b[1;33m.\u001b[0m\u001b[0m_getitem_multilevel\u001b[0m\u001b[1;33m(\u001b[0m\u001b[0mkey\u001b[0m\u001b[1;33m)\u001b[0m\u001b[1;33m\u001b[0m\u001b[1;33m\u001b[0m\u001b[0m\n\u001b[1;32m-> 3024\u001b[1;33m             \u001b[0mindexer\u001b[0m \u001b[1;33m=\u001b[0m \u001b[0mself\u001b[0m\u001b[1;33m.\u001b[0m\u001b[0mcolumns\u001b[0m\u001b[1;33m.\u001b[0m\u001b[0mget_loc\u001b[0m\u001b[1;33m(\u001b[0m\u001b[0mkey\u001b[0m\u001b[1;33m)\u001b[0m\u001b[1;33m\u001b[0m\u001b[1;33m\u001b[0m\u001b[0m\n\u001b[0m\u001b[0;32m   3025\u001b[0m             \u001b[1;32mif\u001b[0m \u001b[0mis_integer\u001b[0m\u001b[1;33m(\u001b[0m\u001b[0mindexer\u001b[0m\u001b[1;33m)\u001b[0m\u001b[1;33m:\u001b[0m\u001b[1;33m\u001b[0m\u001b[1;33m\u001b[0m\u001b[0m\n\u001b[0;32m   3026\u001b[0m                 \u001b[0mindexer\u001b[0m \u001b[1;33m=\u001b[0m \u001b[1;33m[\u001b[0m\u001b[0mindexer\u001b[0m\u001b[1;33m]\u001b[0m\u001b[1;33m\u001b[0m\u001b[1;33m\u001b[0m\u001b[0m\n",
      "\u001b[1;32mC:\\ProgramData\\Anaconda3\\lib\\site-packages\\pandas\\core\\indexes\\base.py\u001b[0m in \u001b[0;36mget_loc\u001b[1;34m(self, key, method, tolerance)\u001b[0m\n\u001b[0;32m   3080\u001b[0m                 \u001b[1;32mreturn\u001b[0m \u001b[0mself\u001b[0m\u001b[1;33m.\u001b[0m\u001b[0m_engine\u001b[0m\u001b[1;33m.\u001b[0m\u001b[0mget_loc\u001b[0m\u001b[1;33m(\u001b[0m\u001b[0mcasted_key\u001b[0m\u001b[1;33m)\u001b[0m\u001b[1;33m\u001b[0m\u001b[1;33m\u001b[0m\u001b[0m\n\u001b[0;32m   3081\u001b[0m             \u001b[1;32mexcept\u001b[0m \u001b[0mKeyError\u001b[0m \u001b[1;32mas\u001b[0m \u001b[0merr\u001b[0m\u001b[1;33m:\u001b[0m\u001b[1;33m\u001b[0m\u001b[1;33m\u001b[0m\u001b[0m\n\u001b[1;32m-> 3082\u001b[1;33m                 \u001b[1;32mraise\u001b[0m \u001b[0mKeyError\u001b[0m\u001b[1;33m(\u001b[0m\u001b[0mkey\u001b[0m\u001b[1;33m)\u001b[0m \u001b[1;32mfrom\u001b[0m \u001b[0merr\u001b[0m\u001b[1;33m\u001b[0m\u001b[1;33m\u001b[0m\u001b[0m\n\u001b[0m\u001b[0;32m   3083\u001b[0m \u001b[1;33m\u001b[0m\u001b[0m\n\u001b[0;32m   3084\u001b[0m         \u001b[1;32mif\u001b[0m \u001b[0mtolerance\u001b[0m \u001b[1;32mis\u001b[0m \u001b[1;32mnot\u001b[0m \u001b[1;32mNone\u001b[0m\u001b[1;33m:\u001b[0m\u001b[1;33m\u001b[0m\u001b[1;33m\u001b[0m\u001b[0m\n",
      "\u001b[1;31mKeyError\u001b[0m: 'selftext'"
     ]
    }
   ],
   "source": [
    "selftext_list = df['selftext'].tolist()\n",
    "selftext_length = []\n",
    "punctuations = list(string.punctuation)"
   ]
  },
  {
   "cell_type": "code",
   "execution_count": 78,
   "id": "89e866e4",
   "metadata": {},
   "outputs": [],
   "source": [
    "for i in range(len(selftext_list)):\n",
    "    file_content = selftext_list[i]\n",
    "    file_content = file_content.encode('ascii', 'ignore').decode('ascii')\n",
    "    file_content = re.sub(\"\\s+\",\" \", file_content)\n",
    "    selftext_list[i] = file_content\n",
    "    \n",
    "    file_content_no_punct = re.sub(r'(?<=[.,!?:])(?=[^\\s])', r' ', file_content)\n",
    "    file_content_no_punct = re.sub(r'\\s([?.!,:\"](?:\\s|$))', r'\\1', file_content_no_punct)\n",
    "    selftext_tokenized = word_tokenize(file_content_no_punct)\n",
    "    selftext_tokenized = [i for i in selftext_tokenized if i not in punctuations]\n",
    "    selftext_length.append(len(selftext_tokenized))"
   ]
  },
  {
   "cell_type": "code",
   "execution_count": 79,
   "id": "514b9e01",
   "metadata": {},
   "outputs": [],
   "source": [
    "percentile_10 = np.percentile(selftext_length,10)\n",
    "percentile_90 = np.percentile(selftext_length,90)"
   ]
  },
  {
   "cell_type": "code",
   "execution_count": 80,
   "id": "2e861f3c",
   "metadata": {},
   "outputs": [
    {
     "data": {
      "text/plain": [
       "308.20000000000005"
      ]
     },
     "execution_count": 80,
     "metadata": {},
     "output_type": "execute_result"
    }
   ],
   "source": [
    "percentile_90"
   ]
  },
  {
   "cell_type": "code",
   "execution_count": 81,
   "id": "3ce49a89",
   "metadata": {},
   "outputs": [
    {
     "data": {
      "text/plain": [
       "1.0"
      ]
     },
     "execution_count": 81,
     "metadata": {},
     "output_type": "execute_result"
    }
   ],
   "source": [
    "percentile_10"
   ]
  },
  {
   "cell_type": "code",
   "execution_count": 82,
   "id": "14b3ce38",
   "metadata": {},
   "outputs": [],
   "source": [
    "df['selftext_cleaned'] = selftext_list\n",
    "df['selftext_length'] = selftext_length"
   ]
  },
  {
   "cell_type": "code",
   "execution_count": 83,
   "id": "ef9256e5",
   "metadata": {},
   "outputs": [
    {
     "name": "stderr",
     "output_type": "stream",
     "text": [
      "<ipython-input-83-aff85d6f641b>:1: FutureWarning: The default value of regex will change from True to False in a future version.\n",
      "  df['selftext_cleaned'] = df['selftext_cleaned'].str.replace(r'http\\S+', '[url]').str.strip()\n",
      "<ipython-input-83-aff85d6f641b>:2: FutureWarning: The default value of regex will change from True to False in a future version.\n",
      "  df['selftext_cleaned'] = df['selftext_cleaned'].str.replace(r'''(?i)\\b((?:https?://|www\\d{0,3}[.]|[a-z0-9.\\-]+[.][a-z]{2,4}/)(?:[^\\s()<>]+|\\(([^\\s()<>]+|(\\([^\\s()<>]+\\)))*\\))+(?:\\(([^\\s()<>]+|(\\([^\\s()<>]+\\)))*\\)|[^\\s`!()\\[\\]{};:'\".,<>?«»“”‘’]))''', '[url]').str.strip()\n"
     ]
    }
   ],
   "source": [
    "df['selftext_cleaned'] = df['selftext_cleaned'].str.replace(r'http\\S+', '[url]').str.strip()\n",
    "df['selftext_cleaned'] = df['selftext_cleaned'].str.replace(r'''(?i)\\b((?:https?://|www\\d{0,3}[.]|[a-z0-9.\\-]+[.][a-z]{2,4}/)(?:[^\\s()<>]+|\\(([^\\s()<>]+|(\\([^\\s()<>]+\\)))*\\))+(?:\\(([^\\s()<>]+|(\\([^\\s()<>]+\\)))*\\)|[^\\s`!()\\[\\]{};:'\".,<>?«»“”‘’]))''', '[url]').str.strip()"
   ]
  },
  {
   "cell_type": "code",
   "execution_count": 84,
   "id": "2f342249",
   "metadata": {},
   "outputs": [],
   "source": [
    "# df_mid95 = df.loc[(df['selftext_length'] > percentile_5) & (df['selftext_length'] < percentile_95)]\n",
    "df_mid95 = df.loc[(df['selftext_length'] > 50) & (df['selftext_length'] < 400)]"
   ]
  },
  {
   "cell_type": "code",
   "execution_count": 85,
   "id": "4d2e7ce7",
   "metadata": {},
   "outputs": [],
   "source": [
    "df_mid95_selftext = df_mid95[['selftext_cleaned','selftext_length']]"
   ]
  },
  {
   "cell_type": "code",
   "execution_count": 86,
   "id": "bde904a6",
   "metadata": {},
   "outputs": [],
   "source": [
    "df_mid95_selftext_utc = df_mid95[['selftext_cleaned','selftext_length','created_utc','id']]"
   ]
  },
  {
   "cell_type": "code",
   "execution_count": 87,
   "id": "e852fd5b",
   "metadata": {},
   "outputs": [
    {
     "data": {
      "text/html": [
       "<div>\n",
       "<style scoped>\n",
       "    .dataframe tbody tr th:only-of-type {\n",
       "        vertical-align: middle;\n",
       "    }\n",
       "\n",
       "    .dataframe tbody tr th {\n",
       "        vertical-align: top;\n",
       "    }\n",
       "\n",
       "    .dataframe thead th {\n",
       "        text-align: right;\n",
       "    }\n",
       "</style>\n",
       "<table border=\"1\" class=\"dataframe\">\n",
       "  <thead>\n",
       "    <tr style=\"text-align: right;\">\n",
       "      <th></th>\n",
       "      <th>selftext_cleaned</th>\n",
       "      <th>selftext_length</th>\n",
       "      <th>created_utc</th>\n",
       "      <th>id</th>\n",
       "    </tr>\n",
       "  </thead>\n",
       "  <tbody>\n",
       "    <tr>\n",
       "      <th>1</th>\n",
       "      <td>Im a 18yr old female and I have a horrible pho...</td>\n",
       "      <td>82</td>\n",
       "      <td>1643086403</td>\n",
       "      <td>sc5iq8</td>\n",
       "    </tr>\n",
       "    <tr>\n",
       "      <th>2</th>\n",
       "      <td>My mother who is 71, fainted the day after get...</td>\n",
       "      <td>149</td>\n",
       "      <td>1643083173</td>\n",
       "      <td>sc4iyt</td>\n",
       "    </tr>\n",
       "    <tr>\n",
       "      <th>3</th>\n",
       "      <td>Good news coming from my own country at last! ...</td>\n",
       "      <td>156</td>\n",
       "      <td>1643081039</td>\n",
       "      <td>sc3u1y</td>\n",
       "    </tr>\n",
       "    <tr>\n",
       "      <th>7</th>\n",
       "      <td>Like many people on the internet, I use Twitte...</td>\n",
       "      <td>210</td>\n",
       "      <td>1643062858</td>\n",
       "      <td>sby9pd</td>\n",
       "    </tr>\n",
       "    <tr>\n",
       "      <th>9</th>\n",
       "      <td>So i got my booster in mid October. Does anyon...</td>\n",
       "      <td>59</td>\n",
       "      <td>1643054215</td>\n",
       "      <td>sbuwd5</td>\n",
       "    </tr>\n",
       "    <tr>\n",
       "      <th>...</th>\n",
       "      <td>...</td>\n",
       "      <td>...</td>\n",
       "      <td>...</td>\n",
       "      <td>...</td>\n",
       "    </tr>\n",
       "    <tr>\n",
       "      <th>1241</th>\n",
       "      <td>Ive posted about this family member before. We...</td>\n",
       "      <td>209</td>\n",
       "      <td>1638379076</td>\n",
       "      <td>r6jtp6</td>\n",
       "    </tr>\n",
       "    <tr>\n",
       "      <th>1242</th>\n",
       "      <td>Exposed 11/22, cough started 11/27, fever 11/2...</td>\n",
       "      <td>84</td>\n",
       "      <td>1638378205</td>\n",
       "      <td>r6ji7g</td>\n",
       "    </tr>\n",
       "    <tr>\n",
       "      <th>1243</th>\n",
       "      <td>I tested positive last week and I havent had s...</td>\n",
       "      <td>296</td>\n",
       "      <td>1638376014</td>\n",
       "      <td>r6io9y</td>\n",
       "    </tr>\n",
       "    <tr>\n",
       "      <th>1246</th>\n",
       "      <td>Hey Everyone, I am a health care worker on the...</td>\n",
       "      <td>246</td>\n",
       "      <td>1638344515</td>\n",
       "      <td>r69efl</td>\n",
       "    </tr>\n",
       "    <tr>\n",
       "      <th>1248</th>\n",
       "      <td>Almost two years of this now. I'm so angry. I ...</td>\n",
       "      <td>128</td>\n",
       "      <td>1638341328</td>\n",
       "      <td>r68muq</td>\n",
       "    </tr>\n",
       "  </tbody>\n",
       "</table>\n",
       "<p>835 rows × 4 columns</p>\n",
       "</div>"
      ],
      "text/plain": [
       "                                       selftext_cleaned  selftext_length  \\\n",
       "1     Im a 18yr old female and I have a horrible pho...               82   \n",
       "2     My mother who is 71, fainted the day after get...              149   \n",
       "3     Good news coming from my own country at last! ...              156   \n",
       "7     Like many people on the internet, I use Twitte...              210   \n",
       "9     So i got my booster in mid October. Does anyon...               59   \n",
       "...                                                 ...              ...   \n",
       "1241  Ive posted about this family member before. We...              209   \n",
       "1242  Exposed 11/22, cough started 11/27, fever 11/2...               84   \n",
       "1243  I tested positive last week and I havent had s...              296   \n",
       "1246  Hey Everyone, I am a health care worker on the...              246   \n",
       "1248  Almost two years of this now. I'm so angry. I ...              128   \n",
       "\n",
       "      created_utc      id  \n",
       "1      1643086403  sc5iq8  \n",
       "2      1643083173  sc4iyt  \n",
       "3      1643081039  sc3u1y  \n",
       "7      1643062858  sby9pd  \n",
       "9      1643054215  sbuwd5  \n",
       "...           ...     ...  \n",
       "1241   1638379076  r6jtp6  \n",
       "1242   1638378205  r6ji7g  \n",
       "1243   1638376014  r6io9y  \n",
       "1246   1638344515  r69efl  \n",
       "1248   1638341328  r68muq  \n",
       "\n",
       "[835 rows x 4 columns]"
      ]
     },
     "execution_count": 87,
     "metadata": {},
     "output_type": "execute_result"
    }
   ],
   "source": [
    "df_mid95_selftext_utc"
   ]
  },
  {
   "cell_type": "code",
   "execution_count": 88,
   "id": "e251ba8a",
   "metadata": {},
   "outputs": [
    {
     "data": {
      "text/html": [
       "<div>\n",
       "<style scoped>\n",
       "    .dataframe tbody tr th:only-of-type {\n",
       "        vertical-align: middle;\n",
       "    }\n",
       "\n",
       "    .dataframe tbody tr th {\n",
       "        vertical-align: top;\n",
       "    }\n",
       "\n",
       "    .dataframe thead th {\n",
       "        text-align: right;\n",
       "    }\n",
       "</style>\n",
       "<table border=\"1\" class=\"dataframe\">\n",
       "  <thead>\n",
       "    <tr style=\"text-align: right;\">\n",
       "      <th></th>\n",
       "      <th>author</th>\n",
       "      <th>author_flair_css_class</th>\n",
       "      <th>author_flair_text</th>\n",
       "      <th>created_utc</th>\n",
       "      <th>id</th>\n",
       "      <th>score</th>\n",
       "      <th>selftext</th>\n",
       "      <th>subreddit</th>\n",
       "      <th>selftext_cleaned</th>\n",
       "      <th>selftext_length</th>\n",
       "    </tr>\n",
       "  </thead>\n",
       "  <tbody>\n",
       "    <tr>\n",
       "      <th>1</th>\n",
       "      <td>zephstfu</td>\n",
       "      <td>None</td>\n",
       "      <td>None</td>\n",
       "      <td>1643086403</td>\n",
       "      <td>sc5iq8</td>\n",
       "      <td>1</td>\n",
       "      <td>I’m a 18yr old female and I have a horrible ph...</td>\n",
       "      <td>COVID19_support</td>\n",
       "      <td>Im a 18yr old female and I have a horrible pho...</td>\n",
       "      <td>82</td>\n",
       "    </tr>\n",
       "    <tr>\n",
       "      <th>2</th>\n",
       "      <td>artistj11</td>\n",
       "      <td>None</td>\n",
       "      <td>None</td>\n",
       "      <td>1643083173</td>\n",
       "      <td>sc4iyt</td>\n",
       "      <td>1</td>\n",
       "      <td>My mother who is 71, fainted the day after get...</td>\n",
       "      <td>COVID19_support</td>\n",
       "      <td>My mother who is 71, fainted the day after get...</td>\n",
       "      <td>149</td>\n",
       "    </tr>\n",
       "    <tr>\n",
       "      <th>3</th>\n",
       "      <td>Bolvane</td>\n",
       "      <td>None</td>\n",
       "      <td>None</td>\n",
       "      <td>1643081039</td>\n",
       "      <td>sc3u1y</td>\n",
       "      <td>1</td>\n",
       "      <td>Good news coming from my own country at last!\\...</td>\n",
       "      <td>COVID19_support</td>\n",
       "      <td>Good news coming from my own country at last! ...</td>\n",
       "      <td>156</td>\n",
       "    </tr>\n",
       "    <tr>\n",
       "      <th>7</th>\n",
       "      <td>JIMBOYKELLY</td>\n",
       "      <td>None</td>\n",
       "      <td>None</td>\n",
       "      <td>1643062858</td>\n",
       "      <td>sby9pd</td>\n",
       "      <td>1</td>\n",
       "      <td>Like many people on the internet, I use Twitte...</td>\n",
       "      <td>COVID19_support</td>\n",
       "      <td>Like many people on the internet, I use Twitte...</td>\n",
       "      <td>210</td>\n",
       "    </tr>\n",
       "    <tr>\n",
       "      <th>9</th>\n",
       "      <td>jzx90markii</td>\n",
       "      <td>None</td>\n",
       "      <td>None</td>\n",
       "      <td>1643054215</td>\n",
       "      <td>sbuwd5</td>\n",
       "      <td>1</td>\n",
       "      <td>So i got my booster in mid October. Does anyon...</td>\n",
       "      <td>COVID19_support</td>\n",
       "      <td>So i got my booster in mid October. Does anyon...</td>\n",
       "      <td>59</td>\n",
       "    </tr>\n",
       "    <tr>\n",
       "      <th>...</th>\n",
       "      <td>...</td>\n",
       "      <td>...</td>\n",
       "      <td>...</td>\n",
       "      <td>...</td>\n",
       "      <td>...</td>\n",
       "      <td>...</td>\n",
       "      <td>...</td>\n",
       "      <td>...</td>\n",
       "      <td>...</td>\n",
       "      <td>...</td>\n",
       "    </tr>\n",
       "    <tr>\n",
       "      <th>1241</th>\n",
       "      <td>yinyang2000</td>\n",
       "      <td>None</td>\n",
       "      <td>None</td>\n",
       "      <td>1638379076</td>\n",
       "      <td>r6jtp6</td>\n",
       "      <td>1</td>\n",
       "      <td>I’ve posted about this family member before. W...</td>\n",
       "      <td>COVID19_support</td>\n",
       "      <td>Ive posted about this family member before. We...</td>\n",
       "      <td>209</td>\n",
       "    </tr>\n",
       "    <tr>\n",
       "      <th>1242</th>\n",
       "      <td>fntastk</td>\n",
       "      <td>None</td>\n",
       "      <td>None</td>\n",
       "      <td>1638378205</td>\n",
       "      <td>r6ji7g</td>\n",
       "      <td>1</td>\n",
       "      <td>Exposed 11/22, cough started 11/27, fever 11/2...</td>\n",
       "      <td>COVID19_support</td>\n",
       "      <td>Exposed 11/22, cough started 11/27, fever 11/2...</td>\n",
       "      <td>84</td>\n",
       "    </tr>\n",
       "    <tr>\n",
       "      <th>1243</th>\n",
       "      <td>TheSarcasticMissy</td>\n",
       "      <td>None</td>\n",
       "      <td>None</td>\n",
       "      <td>1638376014</td>\n",
       "      <td>r6io9y</td>\n",
       "      <td>1</td>\n",
       "      <td>I tested positive last week and I haven’t had ...</td>\n",
       "      <td>COVID19_support</td>\n",
       "      <td>I tested positive last week and I havent had s...</td>\n",
       "      <td>296</td>\n",
       "    </tr>\n",
       "    <tr>\n",
       "      <th>1246</th>\n",
       "      <td>InfamousRepair8001</td>\n",
       "      <td>None</td>\n",
       "      <td>None</td>\n",
       "      <td>1638344515</td>\n",
       "      <td>r69efl</td>\n",
       "      <td>1</td>\n",
       "      <td>Hey Everyone,\\n\\nI am a health care worker on ...</td>\n",
       "      <td>COVID19_support</td>\n",
       "      <td>Hey Everyone, I am a health care worker on the...</td>\n",
       "      <td>246</td>\n",
       "    </tr>\n",
       "    <tr>\n",
       "      <th>1248</th>\n",
       "      <td>rocker_3</td>\n",
       "      <td>None</td>\n",
       "      <td>None</td>\n",
       "      <td>1638341328</td>\n",
       "      <td>r68muq</td>\n",
       "      <td>1</td>\n",
       "      <td>Almost two years of this now. I'm so angry. I ...</td>\n",
       "      <td>COVID19_support</td>\n",
       "      <td>Almost two years of this now. I'm so angry. I ...</td>\n",
       "      <td>128</td>\n",
       "    </tr>\n",
       "  </tbody>\n",
       "</table>\n",
       "<p>835 rows × 10 columns</p>\n",
       "</div>"
      ],
      "text/plain": [
       "                  author author_flair_css_class author_flair_text  \\\n",
       "1               zephstfu                   None              None   \n",
       "2              artistj11                   None              None   \n",
       "3                Bolvane                   None              None   \n",
       "7            JIMBOYKELLY                   None              None   \n",
       "9            jzx90markii                   None              None   \n",
       "...                  ...                    ...               ...   \n",
       "1241         yinyang2000                   None              None   \n",
       "1242             fntastk                   None              None   \n",
       "1243   TheSarcasticMissy                   None              None   \n",
       "1246  InfamousRepair8001                   None              None   \n",
       "1248            rocker_3                   None              None   \n",
       "\n",
       "      created_utc      id  score  \\\n",
       "1      1643086403  sc5iq8      1   \n",
       "2      1643083173  sc4iyt      1   \n",
       "3      1643081039  sc3u1y      1   \n",
       "7      1643062858  sby9pd      1   \n",
       "9      1643054215  sbuwd5      1   \n",
       "...           ...     ...    ...   \n",
       "1241   1638379076  r6jtp6      1   \n",
       "1242   1638378205  r6ji7g      1   \n",
       "1243   1638376014  r6io9y      1   \n",
       "1246   1638344515  r69efl      1   \n",
       "1248   1638341328  r68muq      1   \n",
       "\n",
       "                                               selftext        subreddit  \\\n",
       "1     I’m a 18yr old female and I have a horrible ph...  COVID19_support   \n",
       "2     My mother who is 71, fainted the day after get...  COVID19_support   \n",
       "3     Good news coming from my own country at last!\\...  COVID19_support   \n",
       "7     Like many people on the internet, I use Twitte...  COVID19_support   \n",
       "9     So i got my booster in mid October. Does anyon...  COVID19_support   \n",
       "...                                                 ...              ...   \n",
       "1241  I’ve posted about this family member before. W...  COVID19_support   \n",
       "1242  Exposed 11/22, cough started 11/27, fever 11/2...  COVID19_support   \n",
       "1243  I tested positive last week and I haven’t had ...  COVID19_support   \n",
       "1246  Hey Everyone,\\n\\nI am a health care worker on ...  COVID19_support   \n",
       "1248  Almost two years of this now. I'm so angry. I ...  COVID19_support   \n",
       "\n",
       "                                       selftext_cleaned  selftext_length  \n",
       "1     Im a 18yr old female and I have a horrible pho...               82  \n",
       "2     My mother who is 71, fainted the day after get...              149  \n",
       "3     Good news coming from my own country at last! ...              156  \n",
       "7     Like many people on the internet, I use Twitte...              210  \n",
       "9     So i got my booster in mid October. Does anyon...               59  \n",
       "...                                                 ...              ...  \n",
       "1241  Ive posted about this family member before. We...              209  \n",
       "1242  Exposed 11/22, cough started 11/27, fever 11/2...               84  \n",
       "1243  I tested positive last week and I havent had s...              296  \n",
       "1246  Hey Everyone, I am a health care worker on the...              246  \n",
       "1248  Almost two years of this now. I'm so angry. I ...              128  \n",
       "\n",
       "[835 rows x 10 columns]"
      ]
     },
     "execution_count": 88,
     "metadata": {},
     "output_type": "execute_result"
    }
   ],
   "source": [
    "df_mid95"
   ]
  },
  {
   "cell_type": "code",
   "execution_count": 89,
   "id": "e3f83ece",
   "metadata": {},
   "outputs": [],
   "source": [
    "#df_mid95.to_csv('covid19_support_sub_submissions.csv', encoding='utf-8-sig', index = False)"
   ]
  },
  {
   "cell_type": "code",
   "execution_count": 90,
   "id": "29588e68",
   "metadata": {},
   "outputs": [],
   "source": [
    "#df_mid95_selftext.to_csv('covid19_support_sub_submissions_selftext.csv', encoding='utf-8-sig', index = False)"
   ]
  },
  {
   "cell_type": "code",
   "execution_count": 91,
   "id": "95a680c9",
   "metadata": {},
   "outputs": [],
   "source": [
    "df_mid95_selftext_utc.to_csv('covid19_support_sub_submissions_selftext_utc.csv', encoding='utf-8-sig', index = False)\n",
    "# df_mid95_selftext_utc_sub200"
   ]
  },
  {
   "cell_type": "code",
   "execution_count": 39,
   "id": "6526aa00",
   "metadata": {},
   "outputs": [
    {
     "data": {
      "text/plain": [
       "(array([99., 11., 13., 13., 20., 17., 20., 17., 22., 26., 25., 22., 23.,\n",
       "        18.,  8., 22., 16., 15.,  7.,  5.,  7., 14., 14.,  3., 13.,  2.,\n",
       "         4.,  6.,  9.,  4.,  6.,  2.,  6.,  3.,  6.,  6.,  1.,  2.,  2.,\n",
       "         3.,  2.,  2.,  1.,  4.,  2.,  0.,  0.,  1.,  3.,  3.,  1.,  1.,\n",
       "         0.,  0.,  0.,  1.,  0.,  0.,  1.,  1.,  1.,  1.,  0.,  0.,  1.,\n",
       "         0.,  0.,  0.,  1.,  1.,  0.,  0.,  0.,  0.,  0.,  0.,  1.,  0.,\n",
       "         0.,  0.,  0.,  0.,  0.,  0.,  0.,  0.,  0.,  0.,  1.,  0.,  0.,\n",
       "         0.,  0.,  0.,  0.,  0.,  0.,  0.,  0.,  1.]),\n",
       " array([  0.  ,   9.58,  19.16,  28.74,  38.32,  47.9 ,  57.48,  67.06,\n",
       "         76.64,  86.22,  95.8 , 105.38, 114.96, 124.54, 134.12, 143.7 ,\n",
       "        153.28, 162.86, 172.44, 182.02, 191.6 , 201.18, 210.76, 220.34,\n",
       "        229.92, 239.5 , 249.08, 258.66, 268.24, 277.82, 287.4 , 296.98,\n",
       "        306.56, 316.14, 325.72, 335.3 , 344.88, 354.46, 364.04, 373.62,\n",
       "        383.2 , 392.78, 402.36, 411.94, 421.52, 431.1 , 440.68, 450.26,\n",
       "        459.84, 469.42, 479.  , 488.58, 498.16, 507.74, 517.32, 526.9 ,\n",
       "        536.48, 546.06, 555.64, 565.22, 574.8 , 584.38, 593.96, 603.54,\n",
       "        613.12, 622.7 , 632.28, 641.86, 651.44, 661.02, 670.6 , 680.18,\n",
       "        689.76, 699.34, 708.92, 718.5 , 728.08, 737.66, 747.24, 756.82,\n",
       "        766.4 , 775.98, 785.56, 795.14, 804.72, 814.3 , 823.88, 833.46,\n",
       "        843.04, 852.62, 862.2 , 871.78, 881.36, 890.94, 900.52, 910.1 ,\n",
       "        919.68, 929.26, 938.84, 948.42, 958.  ]),\n",
       " <BarContainer object of 100 artists>)"
      ]
     },
     "execution_count": 39,
     "metadata": {},
     "output_type": "execute_result"
    },
    {
     "data": {
      "image/png": "[encoded data removed]",
      "text/plain": [
       "<Figure size 432x288 with 1 Axes>"
      ]
     },
     "metadata": {
      "needs_background": "light"
     },
     "output_type": "display_data"
    }
   ],
   "source": [
    "plt.hist(selftext_length, bins= 100)"
   ]
  },
  {
   "cell_type": "code",
   "execution_count": 34,
   "id": "f8b74a61",
   "metadata": {},
   "outputs": [
    {
     "ename": "NameError",
     "evalue": "name 'df_mid95_selftext_sub200' is not defined",
     "output_type": "error",
     "traceback": [
      "\u001b[1;31m---------------------------------------------------------------------------\u001b[0m",
      "\u001b[1;31mNameError\u001b[0m                                 Traceback (most recent call last)",
      "\u001b[1;32m<ipython-input-34-a5797222ebaa>\u001b[0m in \u001b[0;36m<module>\u001b[1;34m\u001b[0m\n\u001b[1;32m----> 1\u001b[1;33m \u001b[0mplt\u001b[0m\u001b[1;33m.\u001b[0m\u001b[0mhist\u001b[0m\u001b[1;33m(\u001b[0m\u001b[0mdf_mid95_selftext_sub200\u001b[0m\u001b[1;33m[\u001b[0m\u001b[1;34m'selftext_length'\u001b[0m\u001b[1;33m]\u001b[0m\u001b[1;33m.\u001b[0m\u001b[0mtolist\u001b[0m\u001b[1;33m(\u001b[0m\u001b[1;33m)\u001b[0m\u001b[1;33m,\u001b[0m \u001b[0mbins\u001b[0m\u001b[1;33m=\u001b[0m \u001b[1;36m100\u001b[0m\u001b[1;33m)\u001b[0m\u001b[1;33m\u001b[0m\u001b[1;33m\u001b[0m\u001b[0m\n\u001b[0m",
      "\u001b[1;31mNameError\u001b[0m: name 'df_mid95_selftext_sub200' is not defined"
     ]
    }
   ],
   "source": [
    "plt.hist(df_mid95_selftext_sub200['selftext_length'].tolist(), bins= 100)"
   ]
  },
  {
   "cell_type": "code",
   "execution_count": null,
   "id": "c5b33a2c",
   "metadata": {},
   "outputs": [],
   "source": [
    "plt.hist(df_mid95_selftext_utc['created_utc'].tolist(), bins= 100)"
   ]
  },
  {
   "cell_type": "code",
   "execution_count": 35,
   "id": "8f10d4eb",
   "metadata": {},
   "outputs": [
    {
     "ename": "NameError",
     "evalue": "name 'df_mid95_selftext_utc_sub200' is not defined",
     "output_type": "error",
     "traceback": [
      "\u001b[1;31m---------------------------------------------------------------------------\u001b[0m",
      "\u001b[1;31mNameError\u001b[0m                                 Traceback (most recent call last)",
      "\u001b[1;32m<ipython-input-35-7ecceb99429f>\u001b[0m in \u001b[0;36m<module>\u001b[1;34m\u001b[0m\n\u001b[1;32m----> 1\u001b[1;33m \u001b[0mplt\u001b[0m\u001b[1;33m.\u001b[0m\u001b[0mhist\u001b[0m\u001b[1;33m(\u001b[0m\u001b[0mdf_mid95_selftext_utc_sub200\u001b[0m\u001b[1;33m[\u001b[0m\u001b[1;34m'created_utc'\u001b[0m\u001b[1;33m]\u001b[0m\u001b[1;33m.\u001b[0m\u001b[0mtolist\u001b[0m\u001b[1;33m(\u001b[0m\u001b[1;33m)\u001b[0m\u001b[1;33m,\u001b[0m \u001b[0mbins\u001b[0m\u001b[1;33m=\u001b[0m \u001b[1;36m100\u001b[0m\u001b[1;33m)\u001b[0m\u001b[1;33m\u001b[0m\u001b[1;33m\u001b[0m\u001b[0m\n\u001b[0m",
      "\u001b[1;31mNameError\u001b[0m: name 'df_mid95_selftext_utc_sub200' is not defined"
     ]
    }
   ],
   "source": [
    "plt.hist(df_mid95_selftext_utc_sub200['created_utc'].tolist(), bins= 100)"
   ]
  },
  {
   "cell_type": "markdown",
   "id": "f2f2cfec",
   "metadata": {},
   "source": [
    "50 , 400"
   ]
  },
  {
   "cell_type": "code",
   "execution_count": null,
   "id": "8a29cb14",
   "metadata": {},
   "outputs": [],
   "source": []
  }
 ],
 "metadata": {
  "kernelspec": {
   "display_name": "Python 3",
   "language": "python",
   "name": "python3"
  },
  "language_info": {
   "codemirror_mode": {
    "name": "ipython",
    "version": 3
   },
   "file_extension": ".py",
   "mimetype": "text/x-python",
   "name": "python",
   "nbconvert_exporter": "python",
   "pygments_lexer": "ipython3",
   "version": "3.8.8"
  }
 },
 "nbformat": 4,
 "nbformat_minor": 5
}
