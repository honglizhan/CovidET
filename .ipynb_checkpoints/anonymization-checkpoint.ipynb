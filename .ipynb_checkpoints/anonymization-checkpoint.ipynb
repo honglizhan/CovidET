{
 "cells": [
  {
   "cell_type": "code",
   "execution_count": 1,
   "id": "2f68f967",
   "metadata": {},
   "outputs": [],
   "source": [
    "file_name = \"final-CovidET-1885.json\""
   ]
  },
  {
   "cell_type": "code",
   "execution_count": 2,
   "id": "81d3bf6d",
   "metadata": {},
   "outputs": [
    {
     "data": {
      "text/html": [
       "<div>\n",
       "<style scoped>\n",
       "    .dataframe tbody tr th:only-of-type {\n",
       "        vertical-align: middle;\n",
       "    }\n",
       "\n",
       "    .dataframe tbody tr th {\n",
       "        vertical-align: top;\n",
       "    }\n",
       "\n",
       "    .dataframe thead th {\n",
       "        text-align: right;\n",
       "    }\n",
       "</style>\n",
       "<table border=\"1\" class=\"dataframe\">\n",
       "  <thead>\n",
       "    <tr style=\"text-align: right;\">\n",
       "      <th></th>\n",
       "      <th>Reddit ID</th>\n",
       "      <th>Time Created</th>\n",
       "      <th>Reddit Post</th>\n",
       "      <th>old_annos</th>\n",
       "    </tr>\n",
       "  </thead>\n",
       "  <tbody>\n",
       "    <tr>\n",
       "      <th>0</th>\n",
       "      <td>o6lpwn</td>\n",
       "      <td>6/23/2021 20:51</td>\n",
       "      <td>I dont even know how to speak of this grief. I...</td>\n",
       "      <td>{'Annotation 0 | Assignment ID = 3HMVI3QICT3FH...</td>\n",
       "    </tr>\n",
       "    <tr>\n",
       "      <th>1</th>\n",
       "      <td>o77vmk</td>\n",
       "      <td>6/24/2021 19:17</td>\n",
       "      <td>I'm being vague as to not give away my employe...</td>\n",
       "      <td>{'Annotation 0 | Assignment ID = 3HMVI3QICT3FH...</td>\n",
       "    </tr>\n",
       "    <tr>\n",
       "      <th>2</th>\n",
       "      <td>o78h66</td>\n",
       "      <td>6/24/2021 19:46</td>\n",
       "      <td>My mental health was never great before the pa...</td>\n",
       "      <td>{'Annotation 0 | Assignment ID = 3B837J3LDY76E...</td>\n",
       "    </tr>\n",
       "    <tr>\n",
       "      <th>3</th>\n",
       "      <td>o7buf0</td>\n",
       "      <td>6/24/2021 23:42</td>\n",
       "      <td>I am visiting family this week. All of my fami...</td>\n",
       "      <td>{'Annotation 0 | Assignment ID = 3B837J3LDY76E...</td>\n",
       "    </tr>\n",
       "    <tr>\n",
       "      <th>4</th>\n",
       "      <td>o7fa6u</td>\n",
       "      <td>6/25/2021 3:15</td>\n",
       "      <td>I have hashimotos disease, diagnosed when I wa...</td>\n",
       "      <td>{'Annotation 0 | Assignment ID = 35GMH2SV3OS27...</td>\n",
       "    </tr>\n",
       "  </tbody>\n",
       "</table>\n",
       "</div>"
      ],
      "text/plain": [
       "  Reddit ID     Time Created  \\\n",
       "0    o6lpwn  6/23/2021 20:51   \n",
       "1    o77vmk  6/24/2021 19:17   \n",
       "2    o78h66  6/24/2021 19:46   \n",
       "3    o7buf0  6/24/2021 23:42   \n",
       "4    o7fa6u   6/25/2021 3:15   \n",
       "\n",
       "                                         Reddit Post  \\\n",
       "0  I dont even know how to speak of this grief. I...   \n",
       "1  I'm being vague as to not give away my employe...   \n",
       "2  My mental health was never great before the pa...   \n",
       "3  I am visiting family this week. All of my fami...   \n",
       "4  I have hashimotos disease, diagnosed when I wa...   \n",
       "\n",
       "                                           old_annos  \n",
       "0  {'Annotation 0 | Assignment ID = 3HMVI3QICT3FH...  \n",
       "1  {'Annotation 0 | Assignment ID = 3HMVI3QICT3FH...  \n",
       "2  {'Annotation 0 | Assignment ID = 3B837J3LDY76E...  \n",
       "3  {'Annotation 0 | Assignment ID = 3B837J3LDY76E...  \n",
       "4  {'Annotation 0 | Assignment ID = 35GMH2SV3OS27...  "
      ]
     },
     "execution_count": 2,
     "metadata": {},
     "output_type": "execute_result"
    }
   ],
   "source": [
    "import pandas as pd\n",
    "file = pd.read_json(f\"./data/{file_name}\", orient=\"index\")\n",
    "file = file.rename(columns={\"Annotations\": \"old_annos\"})\n",
    "file.head()"
   ]
  },
  {
   "cell_type": "code",
   "execution_count": 41,
   "id": "089f73c3",
   "metadata": {},
   "outputs": [],
   "source": [
    "# Presidio by Microsoft\n",
    "\n",
    "# Create configuration containing engine name and models\n",
    "configuration = {\n",
    "    \"nlp_engine_name\": \"spacy\",\n",
    "    \"models\": [{\"lang_code\": \"en\", \"model_name\": \"en_core_web_lg\"}],\n",
    "}\n",
    "\n",
    "from presidio_analyzer import AnalyzerEngine\n",
    "from presidio_analyzer.nlp_engine import NlpEngineProvider\n",
    "# Create NLP engine based on configuration\n",
    "provider = NlpEngineProvider(nlp_configuration=configuration)\n",
    "nlp_engine = provider.create_engine()\n",
    "# the languages are needed to load country-specific recognizers \n",
    "# for finding phones, passport numbers, etc.\n",
    "analyzer = AnalyzerEngine(nlp_engine=nlp_engine,\n",
    "                          supported_languages=[\"en\"])\n",
    "\n",
    "from presidio_anonymizer import AnonymizerEngine\n",
    "anonymizer = AnonymizerEngine()"
   ]
  },
  {
   "cell_type": "code",
   "execution_count": 4,
   "id": "1d44843f",
   "metadata": {},
   "outputs": [],
   "source": [
    "def remove_ext(anno_dict):\n",
    "    new_anno = dict()\n",
    "    for worker, work in anno_dict.items():\n",
    "        new_work = list()\n",
    "        for emo_dict in work:\n",
    "            new_emo_dict = dict()\n",
    "            new_emo_dict[\"Emotion\"] = emo_dict[\"Emotion\"]\n",
    "            try:\n",
    "                abst_analyzed = analyzer.analyze(text=emo_dict[\"Abstractive\"], language='en')\n",
    "                abst_anonymized = anonymizer.anonymize(text=emo_dict[\"Abstractive\"], analyzer_results=abst_analyzed).text\n",
    "                new_emo_dict[\"Abstractive\"] = anon.anonymize()\n",
    "            except:\n",
    "                pass\n",
    "            new_work.append(new_emo_dict)\n",
    "        new_anno[worker] = new_work\n",
    "    return new_anno"
   ]
  },
  {
   "cell_type": "code",
   "execution_count": 5,
   "id": "3ce862f9",
   "metadata": {},
   "outputs": [
    {
     "data": {
      "text/html": [
       "<div>\n",
       "<style scoped>\n",
       "    .dataframe tbody tr th:only-of-type {\n",
       "        vertical-align: middle;\n",
       "    }\n",
       "\n",
       "    .dataframe tbody tr th {\n",
       "        vertical-align: top;\n",
       "    }\n",
       "\n",
       "    .dataframe thead th {\n",
       "        text-align: right;\n",
       "    }\n",
       "</style>\n",
       "<table border=\"1\" class=\"dataframe\">\n",
       "  <thead>\n",
       "    <tr style=\"text-align: right;\">\n",
       "      <th></th>\n",
       "      <th>Reddit ID</th>\n",
       "      <th>Time Created</th>\n",
       "      <th>Annotations</th>\n",
       "    </tr>\n",
       "  </thead>\n",
       "  <tbody>\n",
       "    <tr>\n",
       "      <th>0</th>\n",
       "      <td>o6lpwn</td>\n",
       "      <td>6/23/2021 20:51</td>\n",
       "      <td>{'Annotation 0 | Assignment ID = 3HMVI3QICT3FH...</td>\n",
       "    </tr>\n",
       "    <tr>\n",
       "      <th>1</th>\n",
       "      <td>o77vmk</td>\n",
       "      <td>6/24/2021 19:17</td>\n",
       "      <td>{'Annotation 0 | Assignment ID = 3HMVI3QICT3FH...</td>\n",
       "    </tr>\n",
       "    <tr>\n",
       "      <th>2</th>\n",
       "      <td>o78h66</td>\n",
       "      <td>6/24/2021 19:46</td>\n",
       "      <td>{'Annotation 0 | Assignment ID = 3B837J3LDY76E...</td>\n",
       "    </tr>\n",
       "    <tr>\n",
       "      <th>3</th>\n",
       "      <td>o7buf0</td>\n",
       "      <td>6/24/2021 23:42</td>\n",
       "      <td>{'Annotation 0 | Assignment ID = 3B837J3LDY76E...</td>\n",
       "    </tr>\n",
       "    <tr>\n",
       "      <th>4</th>\n",
       "      <td>o7fa6u</td>\n",
       "      <td>6/25/2021 3:15</td>\n",
       "      <td>{'Annotation 0 | Assignment ID = 35GMH2SV3OS27...</td>\n",
       "    </tr>\n",
       "  </tbody>\n",
       "</table>\n",
       "</div>"
      ],
      "text/plain": [
       "  Reddit ID     Time Created  \\\n",
       "0    o6lpwn  6/23/2021 20:51   \n",
       "1    o77vmk  6/24/2021 19:17   \n",
       "2    o78h66  6/24/2021 19:46   \n",
       "3    o7buf0  6/24/2021 23:42   \n",
       "4    o7fa6u   6/25/2021 3:15   \n",
       "\n",
       "                                         Annotations  \n",
       "0  {'Annotation 0 | Assignment ID = 3HMVI3QICT3FH...  \n",
       "1  {'Annotation 0 | Assignment ID = 3HMVI3QICT3FH...  \n",
       "2  {'Annotation 0 | Assignment ID = 3B837J3LDY76E...  \n",
       "3  {'Annotation 0 | Assignment ID = 3B837J3LDY76E...  \n",
       "4  {'Annotation 0 | Assignment ID = 35GMH2SV3OS27...  "
      ]
     },
     "execution_count": 5,
     "metadata": {},
     "output_type": "execute_result"
    }
   ],
   "source": [
    "file[\"Annotations\"] = file[\"old_annos\"].apply(remove_ext)\n",
    "rslt_file = file[[\"Reddit ID\", \"Time Created\", \"Annotations\"]]\n",
    "rslt_file.head()"
   ]
  },
  {
   "cell_type": "code",
   "execution_count": 6,
   "id": "9ec4ede3",
   "metadata": {},
   "outputs": [
    {
     "data": {
      "text/plain": [
       "{'Annotation 0 | Assignment ID = 3HMVI3QICT3FH3ZAQUBLKHVK61QY1W | Worker ID = AM6H40LNWSFYA': [{'Emotion': 'anger',\n",
       "   'Abstractive': \"I'm so upset with my employer for making us continue to work in pandemic conditions even though it is so damaging to us. \"}],\n",
       " 'Annotation 1 | Assignment ID = 3D8YOU6S9OVT7GG2MZQDCSGOIPH6US | Worker ID = A3TSHSRRMD4KUJ': [{'Emotion': 'anger',\n",
       "   'Abstractive': 'My workplace seems to not ease up on protocols.'},\n",
       "  {'Emotion': 'sadness',\n",
       "   'Abstractive': 'I feel left out because everyone I know gets to unmask except me.'}]}"
      ]
     },
     "execution_count": 6,
     "metadata": {},
     "output_type": "execute_result"
    }
   ],
   "source": [
    "rslt_file.loc[1][\"Annotations\"]"
   ]
  },
  {
   "cell_type": "code",
   "execution_count": 7,
   "id": "1e2e5aec",
   "metadata": {},
   "outputs": [],
   "source": [
    "import json\n",
    "final_json = rslt_file.to_json(orient=\"index\")\n",
    "results_json = json.loads(final_json)\n",
    "with open(f'./data/CovidET_anonymized.json', 'w') as outfile:\n",
    "    json.dump(results_json, outfile, indent=4)"
   ]
  },
  {
   "cell_type": "code",
   "execution_count": null,
   "id": "68b4c4ba",
   "metadata": {},
   "outputs": [],
   "source": []
  }
 ],
 "metadata": {
  "kernelspec": {
   "display_name": "Python 3",
   "language": "python",
   "name": "python3"
  },
  "language_info": {
   "codemirror_mode": {
    "name": "ipython",
    "version": 3
   },
   "file_extension": ".py",
   "mimetype": "text/x-python",
   "name": "python",
   "nbconvert_exporter": "python",
   "pygments_lexer": "ipython3",
   "version": "3.8.8"
  }
 },
 "nbformat": 4,
 "nbformat_minor": 5
}
