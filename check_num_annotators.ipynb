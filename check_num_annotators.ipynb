{
 "cells": [
  {
   "cell_type": "code",
   "execution_count": 29,
   "id": "27760504",
   "metadata": {},
   "outputs": [
    {
     "name": "stdout",
     "output_type": "stream",
     "text": [
      "1883\n",
      "1883\n"
     ]
    }
   ],
   "source": [
    "import pandas as pd\n",
    "train_set = pd.read_json(\"./data/train_val_test/train_anonymized.json\", orient=\"index\")\n",
    "valid_set = pd.read_json(\"./data/train_val_test/val_anonymized.json\", orient=\"index\")\n",
    "test_set = pd.read_json(\"./data/train_val_test/test_anonymized.json\", orient=\"index\")\n",
    "dataset_df = pd.read_json(\"./data/CovidET_anonymized.json\", orient=\"index\")\n",
    "print (len(dataset_df))\n",
    "print (len(train_set) + len(valid_set) + len(test_set))"
   ]
  },
  {
   "cell_type": "code",
   "execution_count": 30,
   "id": "b7a8f01d",
   "metadata": {},
   "outputs": [],
   "source": [
    "# Eliminate examples where both annotators did \"NA\"\n",
    "for idx, row in dataset_df.iterrows():\n",
    "    anno_dict = row[\"Annotations\"]\n",
    "    i = 0\n",
    "    for worker, work in anno_dict.items():\n",
    "        for emo_dict in work:\n",
    "            if emo_dict[\"Emotion\"] == \"NA\":\n",
    "                i += 1\n",
    "    if i > 1:\n",
    "        print (row)"
   ]
  },
  {
   "cell_type": "code",
   "execution_count": 31,
   "id": "5567ca2e",
   "metadata": {},
   "outputs": [],
   "source": [
    "import json\n",
    "dataset_df = dataset_df.reset_index(drop=True)\n",
    "final_json = dataset_df.to_json(orient=\"index\")\n",
    "results_json = json.loads(final_json)\n",
    "with open(\"./data/CovidET_anonymized.json\", 'w') as outfile:\n",
    "    json.dump(results_json, outfile, indent=4)"
   ]
  },
  {
   "cell_type": "code",
   "execution_count": 32,
   "id": "9ab68c8a",
   "metadata": {},
   "outputs": [
    {
     "name": "stdout",
     "output_type": "stream",
     "text": [
      "1200\n",
      "285\n",
      "398\n"
     ]
    }
   ],
   "source": [
    "print (len(train_set))\n",
    "print (len(valid_set))\n",
    "print (len(test_set))"
   ]
  },
  {
   "cell_type": "code",
   "execution_count": null,
   "id": "2bc4b35a",
   "metadata": {},
   "outputs": [],
   "source": []
  },
  {
   "cell_type": "code",
   "execution_count": null,
   "id": "e2d05c8e",
   "metadata": {},
   "outputs": [],
   "source": []
  },
  {
   "cell_type": "code",
   "execution_count": 33,
   "id": "ad88fead",
   "metadata": {},
   "outputs": [
    {
     "name": "stdout",
     "output_type": "stream",
     "text": [
      "[] []\n"
     ]
    }
   ],
   "source": [
    "l1 = list(train_set[\"Reddit ID\"]) + list(valid_set[\"Reddit ID\"]) + list(test_set[\"Reddit ID\"])\n",
    "l2 = list(dataset_df[\"Reddit ID\"])\n",
    "res1 = [x for x in l1 if x not in l2]\n",
    "res2 = [x for x in l2 if x not in l1]\n",
    "print (res1, res2)"
   ]
  },
  {
   "cell_type": "code",
   "execution_count": null,
   "id": "25262d86",
   "metadata": {},
   "outputs": [],
   "source": []
  },
  {
   "cell_type": "code",
   "execution_count": null,
   "id": "61e4f440",
   "metadata": {},
   "outputs": [],
   "source": []
  },
  {
   "cell_type": "code",
   "execution_count": 38,
   "id": "ba05ba9b",
   "metadata": {},
   "outputs": [
    {
     "name": "stdout",
     "output_type": "stream",
     "text": [
      "99\n"
     ]
    }
   ],
   "source": [
    "na_num = 0\n",
    "for idx, row in dataset_df.iterrows():\n",
    "    anno_dict = row[\"Annotations\"]\n",
    "    works = list(anno_dict.values())\n",
    "    for work in works:\n",
    "        if len(work) == 1 and work[0][\"Emotion\"] == \"NA\":\n",
    "            na_num +=1\n",
    "            break\n",
    "print (na_num)"
   ]
  },
  {
   "cell_type": "code",
   "execution_count": 39,
   "id": "897f5230",
   "metadata": {},
   "outputs": [],
   "source": [
    "for idx, row in dataset_df.iterrows():\n",
    "    anno_dict = row[\"Annotations\"]\n",
    "    works = list(anno_dict.values())\n",
    "    if len(works[0]) == 1:\n",
    "        if len(works[1]) == 1:\n",
    "            if works[0][0][\"Emotion\"] == \"NA\":\n",
    "                if works[1][0][\"Emotion\"] == \"NA\":\n",
    "                    print (idx)"
   ]
  },
  {
   "cell_type": "code",
   "execution_count": null,
   "id": "42248fde",
   "metadata": {},
   "outputs": [],
   "source": []
  },
  {
   "cell_type": "code",
   "execution_count": null,
   "id": "2340b5c0",
   "metadata": {},
   "outputs": [],
   "source": []
  },
  {
   "cell_type": "code",
   "execution_count": 40,
   "id": "3abf1406",
   "metadata": {},
   "outputs": [
    {
     "name": "stdout",
     "output_type": "stream",
     "text": [
      "15\n"
     ]
    }
   ],
   "source": [
    "annotators = list()\n",
    "for idx, row in dataset_df.iterrows():\n",
    "    anno_dict = row[\"Annotations\"]\n",
    "    annotators.extend(key[76:] for key in list(anno_dict.keys()))\n",
    "print (len(set(annotators)))"
   ]
  },
  {
   "cell_type": "code",
   "execution_count": 42,
   "id": "9d501fda",
   "metadata": {},
   "outputs": [
    {
     "data": {
      "text/plain": [
       "True"
      ]
     },
     "execution_count": 42,
     "metadata": {},
     "output_type": "execute_result"
    }
   ],
   "source": [
    "# if have duplicates\n",
    "reddit_ids = list(dataset_df[\"Reddit ID\"])\n",
    "len(reddit_ids) == len(set(reddit_ids))"
   ]
  },
  {
   "cell_type": "code",
   "execution_count": 43,
   "id": "eca936de",
   "metadata": {},
   "outputs": [],
   "source": [
    "for idx, row in dataset_df.iterrows():\n",
    "    anno_dict = row[\"Annotations\"]\n",
    "    if len(anno_dict) > 2:\n",
    "        print (f\"\"\"Number of annotators error on {row[\"Reddit ID\"]}\"\"\")"
   ]
  },
  {
   "cell_type": "code",
   "execution_count": 44,
   "id": "2a532d27",
   "metadata": {},
   "outputs": [],
   "source": [
    "def rank_eval_dict(d: dict):\n",
    "    eval_results = dict()\n",
    "    for idx, key in enumerate(d):\n",
    "        eval_results[f\"{key[:11]}{idx}{key[12:]}\"] = d[key]\n",
    "    return eval_results"
   ]
  },
  {
   "cell_type": "code",
   "execution_count": 45,
   "id": "cabe45a6",
   "metadata": {},
   "outputs": [
    {
     "data": {
      "text/html": [
       "<div>\n",
       "<style scoped>\n",
       "    .dataframe tbody tr th:only-of-type {\n",
       "        vertical-align: middle;\n",
       "    }\n",
       "\n",
       "    .dataframe tbody tr th {\n",
       "        vertical-align: top;\n",
       "    }\n",
       "\n",
       "    .dataframe thead th {\n",
       "        text-align: right;\n",
       "    }\n",
       "</style>\n",
       "<table border=\"1\" class=\"dataframe\">\n",
       "  <thead>\n",
       "    <tr style=\"text-align: right;\">\n",
       "      <th></th>\n",
       "      <th>Reddit ID</th>\n",
       "      <th>Time Created</th>\n",
       "      <th>Annotations</th>\n",
       "    </tr>\n",
       "  </thead>\n",
       "  <tbody>\n",
       "    <tr>\n",
       "      <th>0</th>\n",
       "      <td>o6lpwn</td>\n",
       "      <td>6/23/2021 20:51</td>\n",
       "      <td>{'Annotation 0 | Assignment ID = 3HMVI3QICT3FH...</td>\n",
       "    </tr>\n",
       "    <tr>\n",
       "      <th>1</th>\n",
       "      <td>o77vmk</td>\n",
       "      <td>6/24/2021 19:17</td>\n",
       "      <td>{'Annotation 0 | Assignment ID = 3HMVI3QICT3FH...</td>\n",
       "    </tr>\n",
       "    <tr>\n",
       "      <th>2</th>\n",
       "      <td>o78h66</td>\n",
       "      <td>6/24/2021 19:46</td>\n",
       "      <td>{'Annotation 0 | Assignment ID = 3B837J3LDY76E...</td>\n",
       "    </tr>\n",
       "    <tr>\n",
       "      <th>3</th>\n",
       "      <td>o7buf0</td>\n",
       "      <td>6/24/2021 23:42</td>\n",
       "      <td>{'Annotation 0 | Assignment ID = 3B837J3LDY76E...</td>\n",
       "    </tr>\n",
       "    <tr>\n",
       "      <th>4</th>\n",
       "      <td>o7fa6u</td>\n",
       "      <td>6/25/2021 3:15</td>\n",
       "      <td>{'Annotation 0 | Assignment ID = 35GMH2SV3OS27...</td>\n",
       "    </tr>\n",
       "  </tbody>\n",
       "</table>\n",
       "</div>"
      ],
      "text/plain": [
       "  Reddit ID     Time Created  \\\n",
       "0    o6lpwn  6/23/2021 20:51   \n",
       "1    o77vmk  6/24/2021 19:17   \n",
       "2    o78h66  6/24/2021 19:46   \n",
       "3    o7buf0  6/24/2021 23:42   \n",
       "4    o7fa6u   6/25/2021 3:15   \n",
       "\n",
       "                                         Annotations  \n",
       "0  {'Annotation 0 | Assignment ID = 3HMVI3QICT3FH...  \n",
       "1  {'Annotation 0 | Assignment ID = 3HMVI3QICT3FH...  \n",
       "2  {'Annotation 0 | Assignment ID = 3B837J3LDY76E...  \n",
       "3  {'Annotation 0 | Assignment ID = 3B837J3LDY76E...  \n",
       "4  {'Annotation 0 | Assignment ID = 35GMH2SV3OS27...  "
      ]
     },
     "execution_count": 45,
     "metadata": {},
     "output_type": "execute_result"
    }
   ],
   "source": [
    "dataset_df.head()"
   ]
  },
  {
   "cell_type": "code",
   "execution_count": 7,
   "id": "6c65928d",
   "metadata": {},
   "outputs": [],
   "source": [
    "dataset_df = dataset_df.rename(columns={\"Annotations\": \"old_Annotations\"})\n",
    "dataset_df = dataset_df.reset_index(drop=True)\n",
    "dataset_df[\"Annotations\"] = dataset_df['old_Annotations'].apply(rank_eval_dict)"
   ]
  },
  {
   "cell_type": "code",
   "execution_count": 8,
   "id": "59d5e282",
   "metadata": {},
   "outputs": [],
   "source": [
    "import json\n",
    "cleaned_json = dataset_df[[\"Reddit ID\", \"Time Created\", \"Reddit Post\", \"Annotations\"]].to_json(orient=\"index\")\n",
    "results_json = json.loads(cleaned_json)\n",
    "with open(f\"../{dataset_name}.json\", 'w') as outfile:\n",
    "    json.dump(results_json, outfile, indent=4)"
   ]
  },
  {
   "cell_type": "code",
   "execution_count": null,
   "id": "29109ad1",
   "metadata": {},
   "outputs": [],
   "source": []
  }
 ],
 "metadata": {
  "kernelspec": {
   "display_name": "Python 3",
   "language": "python",
   "name": "python3"
  },
  "language_info": {
   "codemirror_mode": {
    "name": "ipython",
    "version": 3
   },
   "file_extension": ".py",
   "mimetype": "text/x-python",
   "name": "python",
   "nbconvert_exporter": "python",
   "pygments_lexer": "ipython3",
   "version": "3.8.8"
  }
 },
 "nbformat": 4,
 "nbformat_minor": 5
}
